{
 "cells": [
  {
   "cell_type": "code",
   "execution_count": 170,
   "id": "575a93c5",
   "metadata": {},
   "outputs": [
    {
     "name": "stderr",
     "output_type": "stream",
     "text": [
      "Python(59076) MallocStackLogging: can't turn off malloc stack logging because it was not enabled.\n",
      "huggingface/tokenizers: The current process just got forked, after parallelism has already been used. Disabling parallelism to avoid deadlocks...\n",
      "To disable this warning, you can either:\n",
      "\t- Avoid using `tokenizers` before the fork if possible\n",
      "\t- Explicitly set the environment variable TOKENIZERS_PARALLELISM=(true | false)\n"
     ]
    },
    {
     "name": "stdout",
     "output_type": "stream",
     "text": [
      "Requirement already satisfied: llama-index in /opt/homebrew/lib/python3.10/site-packages (from -r requirements.txt (line 1)) (0.12.8)\n",
      "Requirement already satisfied: llama-index-readers-obsidian in /opt/homebrew/lib/python3.10/site-packages (from -r requirements.txt (line 2)) (0.4.0)\n",
      "Requirement already satisfied: ipywidgets in /opt/homebrew/lib/python3.10/site-packages (from -r requirements.txt (line 3)) (8.1.5)\n",
      "Requirement already satisfied: tqdm in /opt/homebrew/lib/python3.10/site-packages (from -r requirements.txt (line 4)) (4.67.1)\n",
      "Requirement already satisfied: ipython in /Users/arthursarazin/Library/Python/3.10/lib/python/site-packages (from -r requirements.txt (line 5)) (8.16.0)\n",
      "Requirement already satisfied: huggingface-hub in /opt/homebrew/lib/python3.10/site-packages (from -r requirements.txt (line 6)) (0.27.0)\n",
      "Requirement already satisfied: openai in /opt/homebrew/lib/python3.10/site-packages (from -r requirements.txt (line 7)) (1.58.1)\n",
      "Requirement already satisfied: pyyaml in /opt/homebrew/lib/python3.10/site-packages (from -r requirements.txt (line 8)) (6.0.2)\n",
      "Requirement already satisfied: llama-index-llms-ollama in /opt/homebrew/lib/python3.10/site-packages (from -r requirements.txt (line 9)) (0.5.0)\n",
      "Requirement already satisfied: llama-index-embeddings-ollama in /opt/homebrew/lib/python3.10/site-packages (from -r requirements.txt (line 10)) (0.5.0)\n",
      "Requirement already satisfied: llama-index-embeddings-huggingface in /opt/homebrew/lib/python3.10/site-packages (from -r requirements.txt (line 11)) (0.4.0)\n",
      "Requirement already satisfied: ipykernel in /Users/arthursarazin/Library/Python/3.10/lib/python/site-packages (from -r requirements.txt (line 12)) (6.25.2)\n",
      "Requirement already satisfied: pyvis in /opt/homebrew/lib/python3.10/site-packages (from -r requirements.txt (line 13)) (0.3.2)\n",
      "Requirement already satisfied: python-dotenv in /opt/homebrew/lib/python3.10/site-packages (from -r requirements.txt (line 14)) (1.0.1)\n",
      "Requirement already satisfied: llama-index-agent-openai<0.5.0,>=0.4.0 in /opt/homebrew/lib/python3.10/site-packages (from llama-index->-r requirements.txt (line 1)) (0.4.1)\n",
      "Requirement already satisfied: llama-index-cli<0.5.0,>=0.4.0 in /opt/homebrew/lib/python3.10/site-packages (from llama-index->-r requirements.txt (line 1)) (0.4.0)\n",
      "Requirement already satisfied: llama-index-core<0.13.0,>=0.12.8 in /opt/homebrew/lib/python3.10/site-packages (from llama-index->-r requirements.txt (line 1)) (0.12.8)\n",
      "Requirement already satisfied: llama-index-embeddings-openai<0.4.0,>=0.3.0 in /opt/homebrew/lib/python3.10/site-packages (from llama-index->-r requirements.txt (line 1)) (0.3.1)\n",
      "Requirement already satisfied: llama-index-indices-managed-llama-cloud>=0.4.0 in /opt/homebrew/lib/python3.10/site-packages (from llama-index->-r requirements.txt (line 1)) (0.6.3)\n",
      "Requirement already satisfied: llama-index-llms-openai<0.4.0,>=0.3.0 in /opt/homebrew/lib/python3.10/site-packages (from llama-index->-r requirements.txt (line 1)) (0.3.12)\n",
      "Requirement already satisfied: llama-index-multi-modal-llms-openai<0.5.0,>=0.4.0 in /opt/homebrew/lib/python3.10/site-packages (from llama-index->-r requirements.txt (line 1)) (0.4.1)\n",
      "Requirement already satisfied: llama-index-program-openai<0.4.0,>=0.3.0 in /opt/homebrew/lib/python3.10/site-packages (from llama-index->-r requirements.txt (line 1)) (0.3.1)\n",
      "Requirement already satisfied: llama-index-question-gen-openai<0.4.0,>=0.3.0 in /opt/homebrew/lib/python3.10/site-packages (from llama-index->-r requirements.txt (line 1)) (0.3.0)\n",
      "Requirement already satisfied: llama-index-readers-file<0.5.0,>=0.4.0 in /opt/homebrew/lib/python3.10/site-packages (from llama-index->-r requirements.txt (line 1)) (0.4.1)\n",
      "Requirement already satisfied: llama-index-readers-llama-parse>=0.4.0 in /opt/homebrew/lib/python3.10/site-packages (from llama-index->-r requirements.txt (line 1)) (0.4.0)\n",
      "Requirement already satisfied: nltk>3.8.1 in /opt/homebrew/lib/python3.10/site-packages (from llama-index->-r requirements.txt (line 1)) (3.9.1)\n",
      "Requirement already satisfied: comm>=0.1.3 in /Users/arthursarazin/Library/Python/3.10/lib/python/site-packages (from ipywidgets->-r requirements.txt (line 3)) (0.1.4)\n",
      "Requirement already satisfied: traitlets>=4.3.1 in /Users/arthursarazin/Library/Python/3.10/lib/python/site-packages (from ipywidgets->-r requirements.txt (line 3)) (5.10.1)\n",
      "Requirement already satisfied: widgetsnbextension~=4.0.12 in /opt/homebrew/lib/python3.10/site-packages (from ipywidgets->-r requirements.txt (line 3)) (4.0.13)\n",
      "Requirement already satisfied: jupyterlab-widgets~=3.0.12 in /opt/homebrew/lib/python3.10/site-packages (from ipywidgets->-r requirements.txt (line 3)) (3.0.13)\n",
      "Requirement already satisfied: backcall in /Users/arthursarazin/Library/Python/3.10/lib/python/site-packages (from ipython->-r requirements.txt (line 5)) (0.2.0)\n",
      "Requirement already satisfied: decorator in /Users/arthursarazin/Library/Python/3.10/lib/python/site-packages (from ipython->-r requirements.txt (line 5)) (5.1.1)\n",
      "Requirement already satisfied: jedi>=0.16 in /Users/arthursarazin/Library/Python/3.10/lib/python/site-packages (from ipython->-r requirements.txt (line 5)) (0.19.0)\n",
      "Requirement already satisfied: matplotlib-inline in /Users/arthursarazin/Library/Python/3.10/lib/python/site-packages (from ipython->-r requirements.txt (line 5)) (0.1.6)\n",
      "Requirement already satisfied: pickleshare in /Users/arthursarazin/Library/Python/3.10/lib/python/site-packages (from ipython->-r requirements.txt (line 5)) (0.7.5)\n",
      "Requirement already satisfied: prompt-toolkit!=3.0.37,<3.1.0,>=3.0.30 in /Users/arthursarazin/Library/Python/3.10/lib/python/site-packages (from ipython->-r requirements.txt (line 5)) (3.0.39)\n",
      "Requirement already satisfied: pygments>=2.4.0 in /Users/arthursarazin/Library/Python/3.10/lib/python/site-packages (from ipython->-r requirements.txt (line 5)) (2.16.1)\n",
      "Requirement already satisfied: stack-data in /Users/arthursarazin/Library/Python/3.10/lib/python/site-packages (from ipython->-r requirements.txt (line 5)) (0.6.2)\n",
      "Requirement already satisfied: exceptiongroup in /Users/arthursarazin/Library/Python/3.10/lib/python/site-packages (from ipython->-r requirements.txt (line 5)) (1.1.3)\n",
      "Requirement already satisfied: pexpect>4.3 in /Users/arthursarazin/Library/Python/3.10/lib/python/site-packages (from ipython->-r requirements.txt (line 5)) (4.8.0)\n",
      "Requirement already satisfied: appnope in /Users/arthursarazin/Library/Python/3.10/lib/python/site-packages (from ipython->-r requirements.txt (line 5)) (0.1.3)\n",
      "Requirement already satisfied: filelock in /opt/homebrew/lib/python3.10/site-packages (from huggingface-hub->-r requirements.txt (line 6)) (3.16.1)\n",
      "Requirement already satisfied: fsspec>=2023.5.0 in /opt/homebrew/lib/python3.10/site-packages (from huggingface-hub->-r requirements.txt (line 6)) (2024.12.0)\n",
      "Requirement already satisfied: packaging>=20.9 in /Users/arthursarazin/Library/Python/3.10/lib/python/site-packages (from huggingface-hub->-r requirements.txt (line 6)) (23.1)\n",
      "Requirement already satisfied: requests in /opt/homebrew/lib/python3.10/site-packages (from huggingface-hub->-r requirements.txt (line 6)) (2.32.3)\n",
      "Requirement already satisfied: typing-extensions>=3.7.4.3 in /opt/homebrew/lib/python3.10/site-packages (from huggingface-hub->-r requirements.txt (line 6)) (4.12.2)\n",
      "Requirement already satisfied: anyio<5,>=3.5.0 in /opt/homebrew/lib/python3.10/site-packages (from openai->-r requirements.txt (line 7)) (4.7.0)\n",
      "Requirement already satisfied: distro<2,>=1.7.0 in /opt/homebrew/lib/python3.10/site-packages (from openai->-r requirements.txt (line 7)) (1.9.0)\n",
      "Requirement already satisfied: httpx<1,>=0.23.0 in /opt/homebrew/lib/python3.10/site-packages (from openai->-r requirements.txt (line 7)) (0.27.2)\n",
      "Requirement already satisfied: jiter<1,>=0.4.0 in /opt/homebrew/lib/python3.10/site-packages (from openai->-r requirements.txt (line 7)) (0.8.2)\n",
      "Requirement already satisfied: pydantic<3,>=1.9.0 in /opt/homebrew/lib/python3.10/site-packages (from openai->-r requirements.txt (line 7)) (2.10.4)\n",
      "Requirement already satisfied: sniffio in /opt/homebrew/lib/python3.10/site-packages (from openai->-r requirements.txt (line 7)) (1.3.1)\n",
      "Requirement already satisfied: ollama>=0.4.3 in /opt/homebrew/lib/python3.10/site-packages (from llama-index-llms-ollama->-r requirements.txt (line 9)) (0.4.4)\n",
      "Requirement already satisfied: sentence-transformers>=2.6.1 in /opt/homebrew/lib/python3.10/site-packages (from llama-index-embeddings-huggingface->-r requirements.txt (line 11)) (3.3.1)\n",
      "Requirement already satisfied: debugpy>=1.6.5 in /Users/arthursarazin/Library/Python/3.10/lib/python/site-packages (from ipykernel->-r requirements.txt (line 12)) (1.8.0)\n",
      "Requirement already satisfied: jupyter-client>=6.1.12 in /Users/arthursarazin/Library/Python/3.10/lib/python/site-packages (from ipykernel->-r requirements.txt (line 12)) (8.3.1)\n",
      "Requirement already satisfied: jupyter-core!=5.0.*,>=4.12 in /Users/arthursarazin/Library/Python/3.10/lib/python/site-packages (from ipykernel->-r requirements.txt (line 12)) (5.3.2)\n",
      "Requirement already satisfied: nest-asyncio in /Users/arthursarazin/Library/Python/3.10/lib/python/site-packages (from ipykernel->-r requirements.txt (line 12)) (1.5.8)\n",
      "Requirement already satisfied: psutil in /Users/arthursarazin/Library/Python/3.10/lib/python/site-packages (from ipykernel->-r requirements.txt (line 12)) (5.9.5)\n",
      "Requirement already satisfied: pyzmq>=20 in /Users/arthursarazin/Library/Python/3.10/lib/python/site-packages (from ipykernel->-r requirements.txt (line 12)) (25.1.1)\n",
      "Requirement already satisfied: tornado>=6.1 in /Users/arthursarazin/Library/Python/3.10/lib/python/site-packages (from ipykernel->-r requirements.txt (line 12)) (6.3.3)\n",
      "Requirement already satisfied: jinja2>=2.9.6 in /opt/homebrew/lib/python3.10/site-packages (from pyvis->-r requirements.txt (line 13)) (3.1.5)\n",
      "Requirement already satisfied: jsonpickle>=1.4.1 in /opt/homebrew/lib/python3.10/site-packages (from pyvis->-r requirements.txt (line 13)) (4.0.1)\n",
      "Requirement already satisfied: networkx>=1.11 in /opt/homebrew/lib/python3.10/site-packages (from pyvis->-r requirements.txt (line 13)) (3.4.2)\n",
      "Requirement already satisfied: idna>=2.8 in /opt/homebrew/lib/python3.10/site-packages (from anyio<5,>=3.5.0->openai->-r requirements.txt (line 7)) (3.10)\n",
      "Requirement already satisfied: certifi in /opt/homebrew/lib/python3.10/site-packages (from httpx<1,>=0.23.0->openai->-r requirements.txt (line 7)) (2024.12.14)\n",
      "Requirement already satisfied: httpcore==1.* in /opt/homebrew/lib/python3.10/site-packages (from httpx<1,>=0.23.0->openai->-r requirements.txt (line 7)) (1.0.7)\n",
      "Requirement already satisfied: h11<0.15,>=0.13 in /opt/homebrew/lib/python3.10/site-packages (from httpcore==1.*->httpx<1,>=0.23.0->openai->-r requirements.txt (line 7)) (0.14.0)\n",
      "Requirement already satisfied: aiohttp in /opt/homebrew/lib/python3.10/site-packages (from huggingface-hub[inference]>=0.19.0->llama-index-embeddings-huggingface->-r requirements.txt (line 11)) (3.11.11)\n",
      "Requirement already satisfied: parso<0.9.0,>=0.8.3 in /Users/arthursarazin/Library/Python/3.10/lib/python/site-packages (from jedi>=0.16->ipython->-r requirements.txt (line 5)) (0.8.3)\n",
      "Requirement already satisfied: MarkupSafe>=2.0 in /opt/homebrew/lib/python3.10/site-packages (from jinja2>=2.9.6->pyvis->-r requirements.txt (line 13)) (3.0.2)\n",
      "Requirement already satisfied: python-dateutil>=2.8.2 in /Users/arthursarazin/Library/Python/3.10/lib/python/site-packages (from jupyter-client>=6.1.12->ipykernel->-r requirements.txt (line 12)) (2.8.2)\n",
      "Requirement already satisfied: platformdirs>=2.5 in /Users/arthursarazin/Library/Python/3.10/lib/python/site-packages (from jupyter-core!=5.0.*,>=4.12->ipykernel->-r requirements.txt (line 12)) (3.10.0)\n",
      "Requirement already satisfied: SQLAlchemy>=1.4.49 in /opt/homebrew/lib/python3.10/site-packages (from SQLAlchemy[asyncio]>=1.4.49->llama-index-core<0.13.0,>=0.12.8->llama-index->-r requirements.txt (line 1)) (2.0.36)\n",
      "Requirement already satisfied: dataclasses-json in /opt/homebrew/lib/python3.10/site-packages (from llama-index-core<0.13.0,>=0.12.8->llama-index->-r requirements.txt (line 1)) (0.6.7)\n",
      "Requirement already satisfied: deprecated>=1.2.9.3 in /opt/homebrew/lib/python3.10/site-packages (from llama-index-core<0.13.0,>=0.12.8->llama-index->-r requirements.txt (line 1)) (1.2.15)\n",
      "Requirement already satisfied: dirtyjson<2.0.0,>=1.0.8 in /opt/homebrew/lib/python3.10/site-packages (from llama-index-core<0.13.0,>=0.12.8->llama-index->-r requirements.txt (line 1)) (1.0.8)\n",
      "Requirement already satisfied: filetype<2.0.0,>=1.2.0 in /opt/homebrew/lib/python3.10/site-packages (from llama-index-core<0.13.0,>=0.12.8->llama-index->-r requirements.txt (line 1)) (1.2.0)\n",
      "Requirement already satisfied: numpy in /opt/homebrew/lib/python3.10/site-packages (from llama-index-core<0.13.0,>=0.12.8->llama-index->-r requirements.txt (line 1)) (1.26.4)\n",
      "Requirement already satisfied: pillow>=9.0.0 in /opt/homebrew/lib/python3.10/site-packages (from llama-index-core<0.13.0,>=0.12.8->llama-index->-r requirements.txt (line 1)) (10.0.1)\n",
      "Requirement already satisfied: tenacity!=8.4.0,<10.0.0,>=8.2.0 in /opt/homebrew/lib/python3.10/site-packages (from llama-index-core<0.13.0,>=0.12.8->llama-index->-r requirements.txt (line 1)) (9.0.0)\n",
      "Requirement already satisfied: tiktoken>=0.3.3 in /opt/homebrew/lib/python3.10/site-packages (from llama-index-core<0.13.0,>=0.12.8->llama-index->-r requirements.txt (line 1)) (0.8.0)\n",
      "Requirement already satisfied: typing-inspect>=0.8.0 in /opt/homebrew/lib/python3.10/site-packages (from llama-index-core<0.13.0,>=0.12.8->llama-index->-r requirements.txt (line 1)) (0.9.0)\n",
      "Requirement already satisfied: wrapt in /opt/homebrew/lib/python3.10/site-packages (from llama-index-core<0.13.0,>=0.12.8->llama-index->-r requirements.txt (line 1)) (1.17.0)\n",
      "Requirement already satisfied: llama-cloud>=0.1.5 in /opt/homebrew/lib/python3.10/site-packages (from llama-index-indices-managed-llama-cloud>=0.4.0->llama-index->-r requirements.txt (line 1)) (0.1.7)\n",
      "Requirement already satisfied: beautifulsoup4<5.0.0,>=4.12.3 in /opt/homebrew/lib/python3.10/site-packages (from llama-index-readers-file<0.5.0,>=0.4.0->llama-index->-r requirements.txt (line 1)) (4.12.3)\n",
      "Requirement already satisfied: pandas in /opt/homebrew/lib/python3.10/site-packages (from llama-index-readers-file<0.5.0,>=0.4.0->llama-index->-r requirements.txt (line 1)) (2.2.1)\n",
      "Requirement already satisfied: pypdf<6.0.0,>=5.1.0 in /opt/homebrew/lib/python3.10/site-packages (from llama-index-readers-file<0.5.0,>=0.4.0->llama-index->-r requirements.txt (line 1)) (5.1.0)\n",
      "Requirement already satisfied: striprtf<0.0.27,>=0.0.26 in /opt/homebrew/lib/python3.10/site-packages (from llama-index-readers-file<0.5.0,>=0.4.0->llama-index->-r requirements.txt (line 1)) (0.0.26)\n",
      "Requirement already satisfied: llama-parse>=0.5.0 in /opt/homebrew/lib/python3.10/site-packages (from llama-index-readers-llama-parse>=0.4.0->llama-index->-r requirements.txt (line 1)) (0.5.18)\n",
      "Requirement already satisfied: click in /opt/homebrew/lib/python3.10/site-packages (from nltk>3.8.1->llama-index->-r requirements.txt (line 1)) (8.1.8)\n",
      "Requirement already satisfied: joblib in /opt/homebrew/lib/python3.10/site-packages (from nltk>3.8.1->llama-index->-r requirements.txt (line 1)) (1.4.2)\n",
      "Requirement already satisfied: regex>=2021.8.3 in /opt/homebrew/lib/python3.10/site-packages (from nltk>3.8.1->llama-index->-r requirements.txt (line 1)) (2024.11.6)\n",
      "Requirement already satisfied: ptyprocess>=0.5 in /Users/arthursarazin/Library/Python/3.10/lib/python/site-packages (from pexpect>4.3->ipython->-r requirements.txt (line 5)) (0.7.0)\n",
      "Requirement already satisfied: wcwidth in /Users/arthursarazin/Library/Python/3.10/lib/python/site-packages (from prompt-toolkit!=3.0.37,<3.1.0,>=3.0.30->ipython->-r requirements.txt (line 5)) (0.2.7)\n",
      "Requirement already satisfied: annotated-types>=0.6.0 in /opt/homebrew/lib/python3.10/site-packages (from pydantic<3,>=1.9.0->openai->-r requirements.txt (line 7)) (0.7.0)\n",
      "Requirement already satisfied: pydantic-core==2.27.2 in /opt/homebrew/lib/python3.10/site-packages (from pydantic<3,>=1.9.0->openai->-r requirements.txt (line 7)) (2.27.2)\n",
      "Requirement already satisfied: charset-normalizer<4,>=2 in /opt/homebrew/lib/python3.10/site-packages (from requests->huggingface-hub->-r requirements.txt (line 6)) (3.4.1)\n",
      "Requirement already satisfied: urllib3<3,>=1.21.1 in /opt/homebrew/lib/python3.10/site-packages (from requests->huggingface-hub->-r requirements.txt (line 6)) (2.3.0)\n",
      "Requirement already satisfied: transformers<5.0.0,>=4.41.0 in /opt/homebrew/lib/python3.10/site-packages (from sentence-transformers>=2.6.1->llama-index-embeddings-huggingface->-r requirements.txt (line 11)) (4.47.1)\n",
      "Requirement already satisfied: torch>=1.11.0 in /opt/homebrew/lib/python3.10/site-packages (from sentence-transformers>=2.6.1->llama-index-embeddings-huggingface->-r requirements.txt (line 11)) (2.5.1)\n",
      "Requirement already satisfied: scikit-learn in /opt/homebrew/lib/python3.10/site-packages (from sentence-transformers>=2.6.1->llama-index-embeddings-huggingface->-r requirements.txt (line 11)) (1.6.0)\n",
      "Requirement already satisfied: scipy in /opt/homebrew/lib/python3.10/site-packages (from sentence-transformers>=2.6.1->llama-index-embeddings-huggingface->-r requirements.txt (line 11)) (1.14.1)\n",
      "Requirement already satisfied: executing>=1.2.0 in /Users/arthursarazin/Library/Python/3.10/lib/python/site-packages (from stack-data->ipython->-r requirements.txt (line 5)) (1.2.0)\n",
      "Requirement already satisfied: asttokens>=2.1.0 in /Users/arthursarazin/Library/Python/3.10/lib/python/site-packages (from stack-data->ipython->-r requirements.txt (line 5)) (2.4.0)\n",
      "Requirement already satisfied: pure-eval in /Users/arthursarazin/Library/Python/3.10/lib/python/site-packages (from stack-data->ipython->-r requirements.txt (line 5)) (0.2.2)\n",
      "Requirement already satisfied: aiohappyeyeballs>=2.3.0 in /opt/homebrew/lib/python3.10/site-packages (from aiohttp->huggingface-hub[inference]>=0.19.0->llama-index-embeddings-huggingface->-r requirements.txt (line 11)) (2.4.4)\n",
      "Requirement already satisfied: aiosignal>=1.1.2 in /opt/homebrew/lib/python3.10/site-packages (from aiohttp->huggingface-hub[inference]>=0.19.0->llama-index-embeddings-huggingface->-r requirements.txt (line 11)) (1.3.2)\n",
      "Requirement already satisfied: async-timeout<6.0,>=4.0 in /opt/homebrew/lib/python3.10/site-packages (from aiohttp->huggingface-hub[inference]>=0.19.0->llama-index-embeddings-huggingface->-r requirements.txt (line 11)) (5.0.1)\n",
      "Requirement already satisfied: attrs>=17.3.0 in /opt/homebrew/lib/python3.10/site-packages (from aiohttp->huggingface-hub[inference]>=0.19.0->llama-index-embeddings-huggingface->-r requirements.txt (line 11)) (24.3.0)\n",
      "Requirement already satisfied: frozenlist>=1.1.1 in /opt/homebrew/lib/python3.10/site-packages (from aiohttp->huggingface-hub[inference]>=0.19.0->llama-index-embeddings-huggingface->-r requirements.txt (line 11)) (1.5.0)\n",
      "Requirement already satisfied: multidict<7.0,>=4.5 in /opt/homebrew/lib/python3.10/site-packages (from aiohttp->huggingface-hub[inference]>=0.19.0->llama-index-embeddings-huggingface->-r requirements.txt (line 11)) (6.1.0)\n",
      "Requirement already satisfied: propcache>=0.2.0 in /opt/homebrew/lib/python3.10/site-packages (from aiohttp->huggingface-hub[inference]>=0.19.0->llama-index-embeddings-huggingface->-r requirements.txt (line 11)) (0.2.1)\n",
      "Requirement already satisfied: yarl<2.0,>=1.17.0 in /opt/homebrew/lib/python3.10/site-packages (from aiohttp->huggingface-hub[inference]>=0.19.0->llama-index-embeddings-huggingface->-r requirements.txt (line 11)) (1.18.3)\n",
      "Requirement already satisfied: six>=1.12.0 in /Users/arthursarazin/Library/Python/3.10/lib/python/site-packages (from asttokens>=2.1.0->stack-data->ipython->-r requirements.txt (line 5)) (1.16.0)\n",
      "Requirement already satisfied: soupsieve>1.2 in /opt/homebrew/lib/python3.10/site-packages (from beautifulsoup4<5.0.0,>=4.12.3->llama-index-readers-file<0.5.0,>=0.4.0->llama-index->-r requirements.txt (line 1)) (2.6)\n",
      "Requirement already satisfied: greenlet!=0.4.17 in /opt/homebrew/lib/python3.10/site-packages (from SQLAlchemy[asyncio]>=1.4.49->llama-index-core<0.13.0,>=0.12.8->llama-index->-r requirements.txt (line 1)) (3.1.1)\n",
      "Requirement already satisfied: sympy==1.13.1 in /opt/homebrew/lib/python3.10/site-packages (from torch>=1.11.0->sentence-transformers>=2.6.1->llama-index-embeddings-huggingface->-r requirements.txt (line 11)) (1.13.1)\n",
      "Requirement already satisfied: mpmath<1.4,>=1.1.0 in /opt/homebrew/lib/python3.10/site-packages (from sympy==1.13.1->torch>=1.11.0->sentence-transformers>=2.6.1->llama-index-embeddings-huggingface->-r requirements.txt (line 11)) (1.3.0)\n",
      "Requirement already satisfied: tokenizers<0.22,>=0.21 in /opt/homebrew/lib/python3.10/site-packages (from transformers<5.0.0,>=4.41.0->sentence-transformers>=2.6.1->llama-index-embeddings-huggingface->-r requirements.txt (line 11)) (0.21.0)\n",
      "Requirement already satisfied: safetensors>=0.4.1 in /opt/homebrew/lib/python3.10/site-packages (from transformers<5.0.0,>=4.41.0->sentence-transformers>=2.6.1->llama-index-embeddings-huggingface->-r requirements.txt (line 11)) (0.4.5)\n",
      "Requirement already satisfied: mypy-extensions>=0.3.0 in /opt/homebrew/lib/python3.10/site-packages (from typing-inspect>=0.8.0->llama-index-core<0.13.0,>=0.12.8->llama-index->-r requirements.txt (line 1)) (1.0.0)\n",
      "Requirement already satisfied: marshmallow<4.0.0,>=3.18.0 in /opt/homebrew/lib/python3.10/site-packages (from dataclasses-json->llama-index-core<0.13.0,>=0.12.8->llama-index->-r requirements.txt (line 1)) (3.23.2)\n",
      "Requirement already satisfied: pytz>=2020.1 in /opt/homebrew/lib/python3.10/site-packages (from pandas->llama-index-readers-file<0.5.0,>=0.4.0->llama-index->-r requirements.txt (line 1)) (2023.3.post1)\n",
      "Requirement already satisfied: tzdata>=2022.7 in /opt/homebrew/lib/python3.10/site-packages (from pandas->llama-index-readers-file<0.5.0,>=0.4.0->llama-index->-r requirements.txt (line 1)) (2023.3)\n",
      "Requirement already satisfied: threadpoolctl>=3.1.0 in /opt/homebrew/lib/python3.10/site-packages (from scikit-learn->sentence-transformers>=2.6.1->llama-index-embeddings-huggingface->-r requirements.txt (line 11)) (3.5.0)\n",
      "\n",
      "\u001b[1m[\u001b[0m\u001b[34;49mnotice\u001b[0m\u001b[1;39;49m]\u001b[0m\u001b[39;49m A new release of pip is available: \u001b[0m\u001b[31;49m24.2\u001b[0m\u001b[39;49m -> \u001b[0m\u001b[32;49m24.3.1\u001b[0m\n",
      "\u001b[1m[\u001b[0m\u001b[34;49mnotice\u001b[0m\u001b[1;39;49m]\u001b[0m\u001b[39;49m To update, run: \u001b[0m\u001b[32;49mpython3.10 -m pip install --upgrade pip\u001b[0m\n",
      "Note: you may need to restart the kernel to use updated packages.\n"
     ]
    }
   ],
   "source": [
    "pip install -r requirements.txt"
   ]
  },
  {
   "cell_type": "code",
   "execution_count": 171,
   "id": "614fc4e2-0e04-49b0-bf7c-05efee48933f",
   "metadata": {},
   "outputs": [],
   "source": [
    "from llama_index.readers.obsidian import ObsidianReader\n",
    "from llama_index.core.memory.chat_memory_buffer import MessageRole\n",
    "from llama_index.core import SimpleDirectoryReader, KnowledgeGraphIndex, VectorStoreIndex\n",
    "from llama_index.core.graph_stores import SimpleGraphStore\n",
    "from llama_index.core.storage.docstore import SimpleDocumentStore\n",
    "from llama_index.core import Document, PropertyGraphIndex\n",
    "from llama_index.core.storage.index_store import SimpleIndexStore\n",
    "from llama_index.core.vector_stores import SimpleVectorStore\n",
    "from llama_index.core import Settings\n",
    "from IPython.display import Markdown, display\n",
    "from llama_index.llms.ollama import Ollama\n",
    "from tqdm.notebook import tqdm\n",
    "import time\n",
    "import os\n",
    "from llama_index.core.llms import ChatMessage\n",
    "from llama_index.core import StorageContext\n",
    "from llama_index.llms.ollama import Ollama\n",
    "from llama_index.embeddings.ollama import OllamaEmbedding\n",
    "from llama_index.embeddings.huggingface import HuggingFaceEmbedding\n",
    "from llama_index.embeddings.openai import OpenAIEmbedding\n",
    "from llama_index.llms.openai import OpenAI\n",
    "from llama_index.core.memory import ChatMemoryBuffer\n",
    "import logging\n",
    "import sys\n",
    "import ipywidgets as widgets\n",
    "import json\n",
    "from llama_index.core.callbacks import CallbackManager\n",
    "from llama_index.core.callbacks import LlamaDebugHandler\n",
    "from llama_index.core import ServiceContext\n",
    "from llama_index.core.query_engine import RetrieverQueryEngine\n",
    "from llama_index.core.retrievers import KnowledgeGraphRAGRetriever\n",
    "from llama_index.core.indices.property_graph import (\n",
    "    SimpleLLMPathExtractor,\n",
    "    SchemaLLMPathExtractor,\n",
    "    DynamicLLMPathExtractor,\n",
    ")\n",
    "import yaml\n",
    "import networkx as nx\n",
    "from pyvis.network import Network\n",
    "from dotenv import load_dotenv"
   ]
  },
  {
   "cell_type": "code",
   "execution_count": 172,
   "id": "b5e9f925-0bd9-406c-a41d-8be268260b0f",
   "metadata": {},
   "outputs": [],
   "source": [
    "from llama_index.core import (\n",
    "    load_index_from_storage,\n",
    "    load_indices_from_storage,\n",
    "    load_graph_from_storage,\n",
    ")"
   ]
  },
  {
   "cell_type": "code",
   "execution_count": 173,
   "id": "8291822a",
   "metadata": {},
   "outputs": [],
   "source": [
    "import nest_asyncio\n",
    "\n",
    "nest_asyncio.apply()"
   ]
  },
  {
   "cell_type": "code",
   "execution_count": 174,
   "id": "17dd9f9d-7e21-49ef-9a01-d8b0dd7fdc24",
   "metadata": {},
   "outputs": [],
   "source": [
    "logging.basicConfig(stream=sys.stdout, level=logging.INFO)\n",
    "logging.getLogger().addHandler(logging.StreamHandler(stream=sys.stdout))"
   ]
  },
  {
   "cell_type": "markdown",
   "id": "4e9954a1",
   "metadata": {},
   "source": [
    "# Set LLM (OpenAI)"
   ]
  },
  {
   "cell_type": "code",
   "execution_count": 175,
   "id": "3a66b699",
   "metadata": {},
   "outputs": [],
   "source": [
    "load_dotenv()  # Charge les variables depuis le fichier .env\n",
    "api_key = os.getenv(\"OPENAI_API_KEY_UP\")\n",
    "# Modifier ou ajouter une variable d'environnement\n",
    "os.environ[\"OPENAI_API_KEY\"] = api_key"
   ]
  },
  {
   "cell_type": "code",
   "execution_count": 176,
   "id": "6f9e96ce",
   "metadata": {},
   "outputs": [],
   "source": [
    "llm = OpenAI(temperature=0, model=\"gpt-4o\", max_tokens=3000)\n",
    "Settings.llm = llm\n",
    "Settings.chunk_size = 512"
   ]
  },
  {
   "cell_type": "markdown",
   "id": "512d7bc2",
   "metadata": {},
   "source": [
    "# Set local LLM for embeddings"
   ]
  },
  {
   "cell_type": "code",
   "execution_count": 177,
   "id": "aa4bc549",
   "metadata": {},
   "outputs": [
    {
     "name": "stdout",
     "output_type": "stream",
     "text": [
      "INFO:sentence_transformers.SentenceTransformer:Load pretrained SentenceTransformer: BAAI/bge-base-en-v1.5\n",
      "Load pretrained SentenceTransformer: BAAI/bge-base-en-v1.5\n",
      "Load pretrained SentenceTransformer: BAAI/bge-base-en-v1.5\n",
      "Load pretrained SentenceTransformer: BAAI/bge-base-en-v1.5\n",
      "Load pretrained SentenceTransformer: BAAI/bge-base-en-v1.5\n",
      "Load pretrained SentenceTransformer: BAAI/bge-base-en-v1.5\n",
      "INFO:sentence_transformers.SentenceTransformer:2 prompts are loaded, with the keys: ['query', 'text']\n",
      "2 prompts are loaded, with the keys: ['query', 'text']\n",
      "2 prompts are loaded, with the keys: ['query', 'text']\n",
      "2 prompts are loaded, with the keys: ['query', 'text']\n",
      "2 prompts are loaded, with the keys: ['query', 'text']\n",
      "2 prompts are loaded, with the keys: ['query', 'text']\n"
     ]
    }
   ],
   "source": [
    "# bge-base embedding model\n",
    "Settings.embed_model = HuggingFaceEmbedding(model_name=\"BAAI/bge-base-en-v1.5\")\n",
    "#Settings.embed_model = OpenAIEmbedding(model=\"text-embedding-3-small\")"
   ]
  },
  {
   "cell_type": "markdown",
   "id": "3e7a4b82",
   "metadata": {},
   "source": [
    "# Set LLM for chat  (Local)"
   ]
  },
  {
   "cell_type": "code",
   "execution_count": 178,
   "id": "d46a1ed0",
   "metadata": {},
   "outputs": [],
   "source": [
    "#llm = Ollama(model=\"tinyllama\", request_timeout=120.0)\n",
    "#Settings.llm = llm\n",
    "#Settings.chunk_size = 512"
   ]
  },
  {
   "cell_type": "markdown",
   "id": "09bc9d70",
   "metadata": {},
   "source": [
    "# Test LLM"
   ]
  },
  {
   "cell_type": "code",
   "execution_count": 179,
   "id": "d810955e",
   "metadata": {},
   "outputs": [
    {
     "name": "stdout",
     "output_type": "stream",
     "text": [
      "INFO:httpx:HTTP Request: POST https://api.openai.com/v1/chat/completions \"HTTP/1.1 200 OK\"\n",
      "HTTP Request: POST https://api.openai.com/v1/chat/completions \"HTTP/1.1 200 OK\"\n",
      "HTTP Request: POST https://api.openai.com/v1/chat/completions \"HTTP/1.1 200 OK\"\n",
      "HTTP Request: POST https://api.openai.com/v1/chat/completions \"HTTP/1.1 200 OK\"\n",
      "HTTP Request: POST https://api.openai.com/v1/chat/completions \"HTTP/1.1 200 OK\"\n",
      "HTTP Request: POST https://api.openai.com/v1/chat/completions \"HTTP/1.1 200 OK\"\n",
      "assistant: As a data governance consultant, I don't have personal preferences or favorites. However, I can tell you about some popular data tools that are widely used in the industry for various purposes:\n",
      "\n",
      "1. **Data Governance Platforms**: Tools like Collibra and Informatica offer comprehensive data governance solutions that help organizations manage data assets, ensure compliance, and improve data quality.\n",
      "\n",
      "2. **Data Catalogs**: Alation and Data.world are popular for creating data catalogs that help organizations discover, understand, and manage their data assets.\n",
      "\n",
      "3. **Data Quality Tools**: Talend and Trifacta are known for their capabilities in improving data quality through cleansing, profiling, and transformation.\n",
      "\n",
      "4. **Data Integration Tools**: Apache NiFi and MuleSoft are widely used for integrating data from various sources, ensuring seamless data flow across systems.\n",
      "\n",
      "5. **Data Privacy Tools**: OneTrust and BigID are popular for managing data privacy and compliance with regulations like GDPR and CCPA.\n",
      "\n",
      "Each of these tools has its strengths and is chosen based on the specific needs and goals of an organization.\n"
     ]
    }
   ],
   "source": [
    "messages = [\n",
    "    ChatMessage(\n",
    "        role=\"system\", content=\"You are a data governance consultant\"\n",
    "    ),\n",
    "    ChatMessage(role=\"user\", content=\"What's your favorite data tool ?\"),\n",
    "]\n",
    "resp = llm.chat(messages)\n",
    "print(resp)"
   ]
  },
  {
   "cell_type": "markdown",
   "id": "47252b4e-eb58-453c-9e7d-bab5286ee296",
   "metadata": {},
   "source": [
    "# Load storage contexts"
   ]
  },
  {
   "cell_type": "markdown",
   "id": "ca1e8019-e150-4a60-b59d-cac7a4aebcba",
   "metadata": {},
   "source": [
    "## Load vector storage context"
   ]
  },
  {
   "cell_type": "code",
   "execution_count": 180,
   "id": "42c55a04-2b21-4c05-96fb-f0f9ce26bb79",
   "metadata": {},
   "outputs": [],
   "source": [
    "vector_storage_context = StorageContext.from_defaults(\n",
    "    docstore=SimpleDocumentStore.from_persist_dir(persist_dir=\"vector\"),\n",
    "    vector_store=SimpleVectorStore.from_persist_dir(\n",
    "        persist_dir=\"vector\"\n",
    "    ),\n",
    "    index_store=SimpleIndexStore.from_persist_dir(persist_dir=\"vector\"),\n",
    ")"
   ]
  },
  {
   "cell_type": "markdown",
   "id": "564b951a-9776-46da-9309-142acfc3f1dd",
   "metadata": {},
   "source": [
    "## Load knowledge graph storage context"
   ]
  },
  {
   "cell_type": "code",
   "execution_count": 181,
   "id": "a086ef48-3be3-4a12-b158-4ed50aa2b917",
   "metadata": {},
   "outputs": [],
   "source": [
    "graph_storage_context = StorageContext.from_defaults(\n",
    "    docstore=SimpleDocumentStore.from_persist_dir(persist_dir=\"knowledge_graph\"),\n",
    "    graph_store=SimpleGraphStore.from_persist_dir(\n",
    "        persist_dir=\"knowledge_graph\"\n",
    "    ),\n",
    "    index_store=SimpleIndexStore.from_persist_dir(persist_dir=\"knowledge_graph\"),\n",
    ")"
   ]
  },
  {
   "cell_type": "markdown",
   "id": "28317dfb",
   "metadata": {},
   "source": [
    "## Load onto graph storage context\n"
   ]
  },
  {
   "cell_type": "code",
   "execution_count": 182,
   "id": "db73d4f2",
   "metadata": {},
   "outputs": [],
   "source": [
    "onto_storage_context = StorageContext.from_defaults(\n",
    "    docstore=SimpleDocumentStore.from_persist_dir(persist_dir=\"onto_graph\"),\n",
    "    graph_store=SimpleGraphStore.from_persist_dir(\n",
    "        persist_dir=\"onto_graph\"\n",
    "    ),\n",
    "    index_store=SimpleIndexStore.from_persist_dir(persist_dir=\"onto_graph\"),\n",
    ")"
   ]
  },
  {
   "cell_type": "code",
   "execution_count": 183,
   "id": "6d278b09",
   "metadata": {},
   "outputs": [
    {
     "name": "stdout",
     "output_type": "stream",
     "text": [
      "StorageContext(docstore=<llama_index.core.storage.docstore.simple_docstore.SimpleDocumentStore object at 0x150dc6f80>, index_store=<llama_index.core.storage.index_store.simple_index_store.SimpleIndexStore object at 0x297dd56f0>, vector_stores={'default': SimpleVectorStore(stores_text=False, is_embedding_query=True, data=SimpleVectorStoreData(embedding_dict={}, text_id_to_ref_doc_id={}, metadata_dict={})), 'image': SimpleVectorStore(stores_text=False, is_embedding_query=True, data=SimpleVectorStoreData(embedding_dict={}, text_id_to_ref_doc_id={}, metadata_dict={}))}, graph_store=<llama_index.core.graph_stores.simple.SimpleGraphStore object at 0x2973d40d0>, property_graph_store=None)\n"
     ]
    }
   ],
   "source": [
    "print(onto_storage_context)"
   ]
  },
  {
   "cell_type": "markdown",
   "id": "261c3f5b-f0fa-4e10-85fd-9ff7642de428",
   "metadata": {},
   "source": [
    "# Load index"
   ]
  },
  {
   "cell_type": "markdown",
   "id": "ccb3e85a-8fca-4138-9ff9-fca4637a47e2",
   "metadata": {},
   "source": [
    "## Load vector index"
   ]
  },
  {
   "cell_type": "code",
   "execution_count": 184,
   "id": "68274006-61a7-42d7-9556-6ddae87d2b07",
   "metadata": {},
   "outputs": [
    {
     "name": "stdout",
     "output_type": "stream",
     "text": [
      "INFO:llama_index.core.indices.loading:Loading all indices.\n",
      "Loading all indices.\n",
      "Loading all indices.\n",
      "Loading all indices.\n",
      "Loading all indices.\n",
      "Loading all indices.\n"
     ]
    }
   ],
   "source": [
    "simple_index = load_index_from_storage(vector_storage_context)"
   ]
  },
  {
   "cell_type": "markdown",
   "id": "f8cdab09-2c63-4e23-9ca3-79102db74cf0",
   "metadata": {},
   "source": [
    "### Set retriever"
   ]
  },
  {
   "cell_type": "code",
   "execution_count": 185,
   "id": "a6c3e925-229f-4636-a7b7-73687a3aa7eb",
   "metadata": {},
   "outputs": [],
   "source": [
    "simple_query_engine = simple_index.as_query_engine(\n",
    " include_text=True,\n",
    " response_mode=\"tree_summarize\",\n",
    " embedding_mode=\"hybrid\",\n",
    " similarity_top_k=8,\n",
    ")"
   ]
  },
  {
   "cell_type": "markdown",
   "id": "aa7b32a3",
   "metadata": {},
   "source": [
    "### Test retriever"
   ]
  },
  {
   "cell_type": "code",
   "execution_count": 186,
   "id": "887f57e4-8bc9-440b-a84c-0080cbd412e7",
   "metadata": {},
   "outputs": [
    {
     "data": {
      "application/vnd.jupyter.widget-view+json": {
       "model_id": "3a405766d1a24847b410f44fbe0c7920",
       "version_major": 2,
       "version_minor": 0
      },
      "text/plain": [
       "Batches:   0%|          | 0/1 [00:00<?, ?it/s]"
      ]
     },
     "metadata": {},
     "output_type": "display_data"
    },
    {
     "name": "stdout",
     "output_type": "stream",
     "text": [
      "INFO:httpx:HTTP Request: POST https://api.openai.com/v1/chat/completions \"HTTP/1.1 200 OK\"\n",
      "HTTP Request: POST https://api.openai.com/v1/chat/completions \"HTTP/1.1 200 OK\"\n",
      "HTTP Request: POST https://api.openai.com/v1/chat/completions \"HTTP/1.1 200 OK\"\n",
      "HTTP Request: POST https://api.openai.com/v1/chat/completions \"HTTP/1.1 200 OK\"\n",
      "HTTP Request: POST https://api.openai.com/v1/chat/completions \"HTTP/1.1 200 OK\"\n",
      "HTTP Request: POST https://api.openai.com/v1/chat/completions \"HTTP/1.1 200 OK\"\n"
     ]
    }
   ],
   "source": [
    "simple_rag_retriever = simple_index.as_retriever(\n",
    "    retriever_mode=\"hybrid\",  # or \"embedding\" or \"hybrid\"\n",
    "    verbose=True\n",
    ")\n",
    "\n",
    "response = simple_query_engine.query(\n",
    "    \"What is open model ?\",\n",
    ")"
   ]
  },
  {
   "cell_type": "code",
   "execution_count": 187,
   "id": "f014fd60-81a4-4b7f-aef9-f545402e0fa5",
   "metadata": {},
   "outputs": [
    {
     "data": {
      "text/markdown": [
       "<b>An open model is a mode of organization and knowledge production that relies on digital technology, the free circulation of information, and collaboration on an Internet scale. These models aim to benefit from the interactions between ecosystems and are characterized by shared governance. They encompass various fields such as open science, open education, open software, open data, and open hardware. Open models enable the co-production of digital commons, which can be freely used, studied, modified, and redistributed. They are part of a broader movement that seeks to understand the socio-technical environments built around digital commons and the benefits and risks of these interactions.</b>"
      ],
      "text/plain": [
       "<IPython.core.display.Markdown object>"
      ]
     },
     "metadata": {},
     "output_type": "display_data"
    }
   ],
   "source": [
    "display(Markdown(f\"<b>{response}</b>\"))"
   ]
  },
  {
   "cell_type": "markdown",
   "id": "4242ad8d-20fb-4126-9380-4d51c7e3fa32",
   "metadata": {},
   "source": [
    "## Load graph index"
   ]
  },
  {
   "cell_type": "code",
   "execution_count": 188,
   "id": "75e3c260-c349-43f0-b54c-6dac7a12586f",
   "metadata": {},
   "outputs": [
    {
     "name": "stdout",
     "output_type": "stream",
     "text": [
      "INFO:llama_index.core.indices.loading:Loading all indices.\n",
      "Loading all indices.\n",
      "Loading all indices.\n",
      "Loading all indices.\n",
      "Loading all indices.\n",
      "Loading all indices.\n"
     ]
    }
   ],
   "source": [
    "graph_index = load_index_from_storage(graph_storage_context)"
   ]
  },
  {
   "cell_type": "code",
   "execution_count": 189,
   "id": "81c1e83d",
   "metadata": {},
   "outputs": [],
   "source": [
    "nx_graph = graph_index.get_networkx_graph()"
   ]
  },
  {
   "cell_type": "code",
   "execution_count": 190,
   "id": "8424ed30",
   "metadata": {},
   "outputs": [
    {
     "name": "stdout",
     "output_type": "stream",
     "text": [
      "Number of nodes in the knowledge graph: 97\n"
     ]
    }
   ],
   "source": [
    "# Count the number of nodes\n",
    "num_nodes = len(nx_graph.edges())\n",
    "\n",
    "print(f\"Number of nodes in the knowledge graph: {num_nodes}\")"
   ]
  },
  {
   "cell_type": "code",
   "execution_count": 191,
   "id": "0388bce6",
   "metadata": {},
   "outputs": [
    {
     "name": "stdout",
     "output_type": "stream",
     "text": [
      "Graph with 150 nodes and 97 edges\n",
      "Nodes: ['Open artificial intelligence', 'Open models', 'Immature', 'Parent', 'Idea', 'Dream', 'Collective work', 'Open education', 'Removing barriers to education', 'Open educational resources', 'Training', 'The open university', 'Removing entry requirements', '1969', 'Protean', 'It professionals', 'Open education global network', 'Over 250 members', 'Unesco', 'Legal affairs recommendation', 'Open science', 'Isaac pitman', 'First distance learning courses', 'Digital', 'Relationship with knowledge', 'Communities', 'Co-produce digital commons', 'Open source software', 'Foundations of digital universe', 'History of open models', 'Digital evolution', 'Software world', 'Other fields of activity', 'Richard stallman', 'Gnu project', 'Free software movement', 'Reliability', 'Linus torvalds', 'Code on internet', 'Code', 'Gnu general public license', '1989', 'Open license', 'Computer scientists', 'Technical infrastructures', 'Wikipedia', 'Wiki technology', 'Age of generative ai', 'Trustworthy source', 'Open peer review', 'Umbrella term', 'Aims of open science', 'Scientific knowledge', 'Peer review', 'Researchers', 'Pre-publication platforms', 'History', 'Open source', '1998', 'Funding problem', 'Eniac', '1945', 'Grace hopper', 'Compiler a-2', 'Remington rand', 'Univac', 'Ibm', 'Unbundling', 'Object code only\" policy', 'Red hat', 'Free software', 'Divergent philosophies', 'Copyright vs copyleft', 'Bill gates', 'Basic programming language', 'Steve jobs and steve wozniak', 'Apple', 'U.s. copyright act of 1976', 'Situation', 'Copyleft', '1976', 'Open software foundation', 'Major hardware suppliers', 'Eric raymond', 'The cathedral and the bazaar', 'Everyone', 'Skills and means', 'Contribute', 'Contributions', 'Content of the knowledge base', 'Content', 'Github repository', 'Contribution', 'Mastery of git/github and markdown', 'Producing content', 'You', 'Education on open models', 'Making scientific research freely available', 'Transdisciplinarity', 'Reproduction of experiments', 'Our digital future', 'Internet', 'Realities of distributing scientific knowledge', 'Berlin declaration', 'Open access to knowledge', 'Nicolaus copernicus', 'De revolutionibus orbium coelestium', 'Heliocentrism', 'Sun is at center of universe', 'Anthropocene', 'Relationship to knowledge', 'Models', 'Period', 'Base', 'Education in open models', 'Education', 'Democratization of emerging concepts', 'Knowledge base', 'Finished', 'Kanban', 'See developments', 'Organizations', 'Understanding open models', 'Open innovation', 'Enriching oneself with external knowledge', 'Chesbrough', 'Open innovation into two aspects', 'Henry chesbrough', 'Book \"open innovation: the new imperative for creating and profiting from technology', 'Companies', 'Intellectual property', 'Goldcorp', 'Goldcorp challenge', 'Fractal graphics and taylor wall and associates', 'Computer model', 'Url', 'Https://osf.io/', 'Https://www.data.gouv.fr/fr/', 'Https://wiki.lafabriquedesmobilites.fr/wiki/guide_m%c3%a9thodologique_des_communs_num%c3%a9riques_de_la_mobilit%c3%a9', 'Https://freefairandalive.org/', 'Https://luniversitenumerique.fr/', 'Https://open-climate.org/', 'Https://florilege.ls2n.fr/', 'Https://elifesciences.org/articles/16800', 'Https://www.youtube.com/watch?v=8qpqusmlpxq', 'Https://open.science.gov/', 'Https://www.youtube.com/watch?v=spedk1tpbew', 'Https://core.ac.uk/', 'Https://fundoss.org/', 'Https://oasis.geneseo.edu/index.php']\n",
      "Edges: [('Open artificial intelligence', 'Open models'), ('Open models', 'Immature'), ('Open models', 'Parent'), ('Open models', 'Idea'), ('Open models', 'Dream'), ('Open models', 'Collective work'), ('Open education', 'Removing barriers to education'), ('Open education', 'Open educational resources'), ('Open education', 'Training'), ('Open education', 'It professionals'), ('Open educational resources', 'Protean'), ('Open educational resources', 'Unesco'), ('The open university', 'Removing entry requirements'), ('The open university', '1969'), ('Open education global network', 'Over 250 members'), ('Unesco', 'Legal affairs recommendation'), ('Unesco', 'Open science'), ('Open science', 'Making scientific research freely available'), ('Open science', 'Transdisciplinarity'), ('Open science', 'Reproduction of experiments'), ('Open science', 'Our digital future'), ('Isaac pitman', 'First distance learning courses'), ('Digital', 'Relationship with knowledge'), ('Communities', 'Co-produce digital commons'), ('Open source software', 'Foundations of digital universe'), ('History of open models', 'Digital evolution'), ('Software world', 'Other fields of activity'), ('Richard stallman', 'Gnu project'), ('Richard stallman', 'Free software movement'), ('Gnu project', 'Reliability'), ('Linus torvalds', 'Code on internet'), ('Linus torvalds', 'Code'), ('Gnu general public license', '1989'), ('Gnu general public license', 'Open license'), ('Computer scientists', 'Technical infrastructures'), ('Wikipedia', 'Wiki technology'), ('Wikipedia', 'Age of generative ai'), ('Wikipedia', 'Trustworthy source'), ('Open peer review', 'Umbrella term'), ('Open peer review', 'Aims of open science'), ('Scientific knowledge', 'Peer review'), ('Researchers', 'Pre-publication platforms'), ('History', 'Open source'), ('Open source', '1998'), ('Open source', 'Funding problem'), ('Eniac', '1945'), ('Grace hopper', 'Compiler a-2'), ('Remington rand', 'Univac'), ('Ibm', 'Unbundling'), ('Ibm', 'Object code only\" policy'), ('Ibm', 'Red hat'), ('Ibm', 'Free software'), ('Divergent philosophies', 'Copyright vs copyleft'), ('Bill gates', 'Basic programming language'), ('Steve jobs and steve wozniak', 'Apple'), ('U.s. copyright act of 1976', 'Situation'), ('Copyleft', '1976'), ('Open software foundation', 'Major hardware suppliers'), ('Eric raymond', 'The cathedral and the bazaar'), ('Everyone', 'Skills and means'), ('Everyone', 'Contribute'), ('Contributions', 'Content of the knowledge base'), ('Content', 'Github repository'), ('Contribution', 'Mastery of git/github and markdown'), ('Contribution', 'Producing content'), ('You', 'Education on open models'), ('Internet', 'Realities of distributing scientific knowledge'), ('Berlin declaration', 'Open access to knowledge'), ('Nicolaus copernicus', 'De revolutionibus orbium coelestium'), ('Heliocentrism', 'Sun is at center of universe'), ('Anthropocene', 'Relationship to knowledge'), ('Models', 'Period'), ('Base', 'Education in open models'), ('Education', 'Democratization of emerging concepts'), ('Knowledge base', 'Finished'), ('Kanban', 'See developments'), ('Organizations', 'Understanding open models'), ('Open innovation', 'Enriching oneself with external knowledge'), ('Chesbrough', 'Open innovation into two aspects'), ('Henry chesbrough', 'Book \"open innovation: the new imperative for creating and profiting from technology'), ('Companies', 'Intellectual property'), ('Goldcorp', 'Goldcorp challenge'), ('Fractal graphics and taylor wall and associates', 'Computer model'), ('Url', 'Https://osf.io/'), ('Url', 'Https://www.data.gouv.fr/fr/'), ('Url', 'Https://wiki.lafabriquedesmobilites.fr/wiki/guide_m%c3%a9thodologique_des_communs_num%c3%a9riques_de_la_mobilit%c3%a9'), ('Url', 'Https://freefairandalive.org/'), ('Url', 'Https://luniversitenumerique.fr/'), ('Url', 'Https://open-climate.org/'), ('Url', 'Https://florilege.ls2n.fr/'), ('Url', 'Https://elifesciences.org/articles/16800'), ('Url', 'Https://www.youtube.com/watch?v=8qpqusmlpxq'), ('Url', 'Https://open.science.gov/'), ('Url', 'Https://www.youtube.com/watch?v=spedk1tpbew'), ('Url', 'Https://core.ac.uk/'), ('Url', 'Https://fundoss.org/'), ('Url', 'Https://oasis.geneseo.edu/index.php')]\n"
     ]
    }
   ],
   "source": [
    "g = graph_index.get_networkx_graph()\n",
    "print(g)\n",
    "print(\"Nodes:\", g.nodes())\n",
    "print(\"Edges:\", g.edges())\n",
    "net = Network(notebook=True, cdn_resources=\"in_line\", directed=True)\n",
    "net.from_nx(g)\n",
    "\n",
    "with open(\"knowledge_graph.html\", \"w\", encoding=\"utf-8\") as f:\n",
    "    f.write(net.generate_html())"
   ]
  },
  {
   "cell_type": "markdown",
   "id": "8c3d6f30",
   "metadata": {},
   "source": [
    "### Set retriever"
   ]
  },
  {
   "cell_type": "code",
   "execution_count": 192,
   "id": "330e38ed",
   "metadata": {},
   "outputs": [],
   "source": [
    "graph_query_engine = graph_index.as_query_engine(\n",
    " include_text=True,\n",
    " response_mode=\"tree_summarize\",\n",
    " embedding_mode=\"hybrid\",\n",
    " similarity_top_k=8,\n",
    ")"
   ]
  },
  {
   "cell_type": "markdown",
   "id": "c96e323b",
   "metadata": {},
   "source": [
    "### Test retriever"
   ]
  },
  {
   "cell_type": "code",
   "execution_count": 193,
   "id": "c0dd0ba5",
   "metadata": {},
   "outputs": [
    {
     "name": "stdout",
     "output_type": "stream",
     "text": [
      "INFO:httpx:HTTP Request: POST https://api.openai.com/v1/chat/completions \"HTTP/1.1 200 OK\"\n",
      "HTTP Request: POST https://api.openai.com/v1/chat/completions \"HTTP/1.1 200 OK\"\n",
      "HTTP Request: POST https://api.openai.com/v1/chat/completions \"HTTP/1.1 200 OK\"\n",
      "HTTP Request: POST https://api.openai.com/v1/chat/completions \"HTTP/1.1 200 OK\"\n",
      "HTTP Request: POST https://api.openai.com/v1/chat/completions \"HTTP/1.1 200 OK\"\n",
      "HTTP Request: POST https://api.openai.com/v1/chat/completions \"HTTP/1.1 200 OK\"\n"
     ]
    },
    {
     "data": {
      "application/vnd.jupyter.widget-view+json": {
       "model_id": "42165dffe5984382ad198d7bc162ae1a",
       "version_major": 2,
       "version_minor": 0
      },
      "text/plain": [
       "Batches:   0%|          | 0/1 [00:00<?, ?it/s]"
      ]
     },
     "metadata": {},
     "output_type": "display_data"
    },
    {
     "name": "stdout",
     "output_type": "stream",
     "text": [
      "INFO:llama_index.core.indices.knowledge_graph.retrievers:> Querying with idx: ae053f60-f18a-4a7e-9f52-30349bb5f04a: Federating an ecosystem of stakeholders\n",
      "\n",
      "To carry out this education work on ...\n",
      "> Querying with idx: ae053f60-f18a-4a7e-9f52-30349bb5f04a: Federating an ecosystem of stakeholders\n",
      "\n",
      "To carry out this education work on ...\n",
      "> Querying with idx: ae053f60-f18a-4a7e-9f52-30349bb5f04a: Federating an ecosystem of stakeholders\n",
      "\n",
      "To carry out this education work on ...\n",
      "> Querying with idx: ae053f60-f18a-4a7e-9f52-30349bb5f04a: Federating an ecosystem of stakeholders\n",
      "\n",
      "To carry out this education work on ...\n",
      "> Querying with idx: ae053f60-f18a-4a7e-9f52-30349bb5f04a: Federating an ecosystem of stakeholders\n",
      "\n",
      "To carry out this education work on ...\n",
      "> Querying with idx: ae053f60-f18a-4a7e-9f52-30349bb5f04a: Federating an ecosystem of stakeholders\n",
      "\n",
      "To carry out this education work on ...\n",
      "INFO:llama_index.core.indices.knowledge_graph.retrievers:> Querying with idx: f08077e9-166e-43a7-a91d-e7f4a09b00f4: ---\n",
      "parent: \"[[Open Models]]\"\n",
      "---\n",
      "\n",
      "Open Artificial Intelligence.\n",
      "> Querying with idx: f08077e9-166e-43a7-a91d-e7f4a09b00f4: ---\n",
      "parent: \"[[Open Models]]\"\n",
      "---\n",
      "\n",
      "Open Artificial Intelligence.\n",
      "> Querying with idx: f08077e9-166e-43a7-a91d-e7f4a09b00f4: ---\n",
      "parent: \"[[Open Models]]\"\n",
      "---\n",
      "\n",
      "Open Artificial Intelligence.\n",
      "> Querying with idx: f08077e9-166e-43a7-a91d-e7f4a09b00f4: ---\n",
      "parent: \"[[Open Models]]\"\n",
      "---\n",
      "\n",
      "Open Artificial Intelligence.\n",
      "> Querying with idx: f08077e9-166e-43a7-a91d-e7f4a09b00f4: ---\n",
      "parent: \"[[Open Models]]\"\n",
      "---\n",
      "\n",
      "Open Artificial Intelligence.\n",
      "> Querying with idx: f08077e9-166e-43a7-a91d-e7f4a09b00f4: ---\n",
      "parent: \"[[Open Models]]\"\n",
      "---\n",
      "\n",
      "Open Artificial Intelligence.\n",
      "INFO:llama_index.core.indices.knowledge_graph.retrievers:> Querying with idx: dfcaca66-9644-4675-bdcb-de7ab6cb9ae9: The future\n",
      "\n",
      "No one reading this will see the full potential that open models ...\n",
      "> Querying with idx: dfcaca66-9644-4675-bdcb-de7ab6cb9ae9: The future\n",
      "\n",
      "No one reading this will see the full potential that open models ...\n",
      "> Querying with idx: dfcaca66-9644-4675-bdcb-de7ab6cb9ae9: The future\n",
      "\n",
      "No one reading this will see the full potential that open models ...\n",
      "> Querying with idx: dfcaca66-9644-4675-bdcb-de7ab6cb9ae9: The future\n",
      "\n",
      "No one reading this will see the full potential that open models ...\n",
      "> Querying with idx: dfcaca66-9644-4675-bdcb-de7ab6cb9ae9: The future\n",
      "\n",
      "No one reading this will see the full potential that open models ...\n",
      "> Querying with idx: dfcaca66-9644-4675-bdcb-de7ab6cb9ae9: The future\n",
      "\n",
      "No one reading this will see the full potential that open models ...\n",
      "INFO:llama_index.core.indices.knowledge_graph.retrievers:> Querying with idx: ce489f6b-0597-4bbc-8078-137f8d572fbd: ---\n",
      "parent: \"[[Open Models]]\"\n",
      "---\n",
      "> Querying with idx: ce489f6b-0597-4bbc-8078-137f8d572fbd: ---\n",
      "parent: \"[[Open Models]]\"\n",
      "---\n",
      "> Querying with idx: ce489f6b-0597-4bbc-8078-137f8d572fbd: ---\n",
      "parent: \"[[Open Models]]\"\n",
      "---\n",
      "> Querying with idx: ce489f6b-0597-4bbc-8078-137f8d572fbd: ---\n",
      "parent: \"[[Open Models]]\"\n",
      "---\n",
      "> Querying with idx: ce489f6b-0597-4bbc-8078-137f8d572fbd: ---\n",
      "parent: \"[[Open Models]]\"\n",
      "---\n",
      "> Querying with idx: ce489f6b-0597-4bbc-8078-137f8d572fbd: ---\n",
      "parent: \"[[Open Models]]\"\n",
      "---\n",
      "INFO:llama_index.core.indices.knowledge_graph.retrievers:> Querying with idx: 73c34626-33b7-4393-a853-e590af934735: ---\n",
      "parent: \"[[Open Models]]\"\n",
      "---\n",
      "> Querying with idx: 73c34626-33b7-4393-a853-e590af934735: ---\n",
      "parent: \"[[Open Models]]\"\n",
      "---\n",
      "> Querying with idx: 73c34626-33b7-4393-a853-e590af934735: ---\n",
      "parent: \"[[Open Models]]\"\n",
      "---\n",
      "> Querying with idx: 73c34626-33b7-4393-a853-e590af934735: ---\n",
      "parent: \"[[Open Models]]\"\n",
      "---\n",
      "> Querying with idx: 73c34626-33b7-4393-a853-e590af934735: ---\n",
      "parent: \"[[Open Models]]\"\n",
      "---\n",
      "> Querying with idx: 73c34626-33b7-4393-a853-e590af934735: ---\n",
      "parent: \"[[Open Models]]\"\n",
      "---\n",
      "INFO:llama_index.core.indices.knowledge_graph.retrievers:> Querying with idx: c72fcc46-0a54-4e7b-9064-960b40a60531: Importance of open models\n",
      "\n",
      "All open models are immature and their degree of m...\n",
      "> Querying with idx: c72fcc46-0a54-4e7b-9064-960b40a60531: Importance of open models\n",
      "\n",
      "All open models are immature and their degree of m...\n",
      "> Querying with idx: c72fcc46-0a54-4e7b-9064-960b40a60531: Importance of open models\n",
      "\n",
      "All open models are immature and their degree of m...\n",
      "> Querying with idx: c72fcc46-0a54-4e7b-9064-960b40a60531: Importance of open models\n",
      "\n",
      "All open models are immature and their degree of m...\n",
      "> Querying with idx: c72fcc46-0a54-4e7b-9064-960b40a60531: Importance of open models\n",
      "\n",
      "All open models are immature and their degree of m...\n",
      "> Querying with idx: c72fcc46-0a54-4e7b-9064-960b40a60531: Importance of open models\n",
      "\n",
      "All open models are immature and their degree of m...\n",
      "INFO:llama_index.core.indices.knowledge_graph.retrievers:> Querying with idx: c6e4971a-6e37-45f9-9e2b-1e923d6b02f7: The history of open models is intimately linked to the digital evolution. The...\n",
      "> Querying with idx: c6e4971a-6e37-45f9-9e2b-1e923d6b02f7: The history of open models is intimately linked to the digital evolution. The...\n",
      "> Querying with idx: c6e4971a-6e37-45f9-9e2b-1e923d6b02f7: The history of open models is intimately linked to the digital evolution. The...\n",
      "> Querying with idx: c6e4971a-6e37-45f9-9e2b-1e923d6b02f7: The history of open models is intimately linked to the digital evolution. The...\n",
      "> Querying with idx: c6e4971a-6e37-45f9-9e2b-1e923d6b02f7: The history of open models is intimately linked to the digital evolution. The...\n",
      "> Querying with idx: c6e4971a-6e37-45f9-9e2b-1e923d6b02f7: The history of open models is intimately linked to the digital evolution. The...\n",
      "INFO:llama_index.core.indices.knowledge_graph.retrievers:> Querying with idx: 9f6608b2-00aa-489d-8054-3779a3d098ae: Training in open models\n",
      "\n",
      "The base’s primary mission is to be a tool for educa...\n",
      "> Querying with idx: 9f6608b2-00aa-489d-8054-3779a3d098ae: Training in open models\n",
      "\n",
      "The base’s primary mission is to be a tool for educa...\n",
      "> Querying with idx: 9f6608b2-00aa-489d-8054-3779a3d098ae: Training in open models\n",
      "\n",
      "The base’s primary mission is to be a tool for educa...\n",
      "> Querying with idx: 9f6608b2-00aa-489d-8054-3779a3d098ae: Training in open models\n",
      "\n",
      "The base’s primary mission is to be a tool for educa...\n",
      "> Querying with idx: 9f6608b2-00aa-489d-8054-3779a3d098ae: Training in open models\n",
      "\n",
      "The base’s primary mission is to be a tool for educa...\n",
      "> Querying with idx: 9f6608b2-00aa-489d-8054-3779a3d098ae: Training in open models\n",
      "\n",
      "The base’s primary mission is to be a tool for educa...\n",
      "INFO:llama_index.core.indices.knowledge_graph.retrievers:> Querying with idx: 877549bd-9c34-4bc5-a24d-39830190dfd9: Contribute using content\n",
      "\n",
      "The contribution is not limited to producing the co...\n",
      "> Querying with idx: 877549bd-9c34-4bc5-a24d-39830190dfd9: Contribute using content\n",
      "\n",
      "The contribution is not limited to producing the co...\n",
      "> Querying with idx: 877549bd-9c34-4bc5-a24d-39830190dfd9: Contribute using content\n",
      "\n",
      "The contribution is not limited to producing the co...\n",
      "> Querying with idx: 877549bd-9c34-4bc5-a24d-39830190dfd9: Contribute using content\n",
      "\n",
      "The contribution is not limited to producing the co...\n",
      "> Querying with idx: 877549bd-9c34-4bc5-a24d-39830190dfd9: Contribute using content\n",
      "\n",
      "The contribution is not limited to producing the co...\n",
      "> Querying with idx: 877549bd-9c34-4bc5-a24d-39830190dfd9: Contribute using content\n",
      "\n",
      "The contribution is not limited to producing the co...\n",
      "INFO:httpx:HTTP Request: POST https://api.openai.com/v1/chat/completions \"HTTP/1.1 200 OK\"\n",
      "HTTP Request: POST https://api.openai.com/v1/chat/completions \"HTTP/1.1 200 OK\"\n",
      "HTTP Request: POST https://api.openai.com/v1/chat/completions \"HTTP/1.1 200 OK\"\n",
      "HTTP Request: POST https://api.openai.com/v1/chat/completions \"HTTP/1.1 200 OK\"\n",
      "HTTP Request: POST https://api.openai.com/v1/chat/completions \"HTTP/1.1 200 OK\"\n",
      "HTTP Request: POST https://api.openai.com/v1/chat/completions \"HTTP/1.1 200 OK\"\n"
     ]
    }
   ],
   "source": [
    "graph_rag_retriever = graph_index.as_retriever(\n",
    "    retriever_mode=\"hybrid\",  # or \"embedding\" or \"hybrid\"\n",
    "    verbose=True\n",
    ")\n",
    "\n",
    "response = graph_query_engine.query(\n",
    "    \"What is open model ?\",\n",
    ")"
   ]
  },
  {
   "cell_type": "code",
   "execution_count": 194,
   "id": "d1031a44-f06e-400f-beaa-2065beeee9a9",
   "metadata": {},
   "outputs": [
    {
     "data": {
      "text/markdown": [
       "<b>Open models are a concept that involves collaborative and open sharing of resources, particularly in the digital realm. They are considered a driving force in society, contributing to the digital revolution and impacting various fields such as education, industry, and science. Open models are characterized by their collective nature and are seen as a part of the broader movement towards open science and open education. They are still in varying stages of maturity but are integral to the architecture of systems that benefit from open collaboration and shared knowledge.</b>"
      ],
      "text/plain": [
       "<IPython.core.display.Markdown object>"
      ]
     },
     "metadata": {},
     "output_type": "display_data"
    }
   ],
   "source": [
    "display(Markdown(f\"<b>{response}</b>\"))"
   ]
  },
  {
   "cell_type": "markdown",
   "id": "4d1e7541",
   "metadata": {},
   "source": [
    "## Load onto index"
   ]
  },
  {
   "cell_type": "code",
   "execution_count": 195,
   "id": "bb203e8c",
   "metadata": {},
   "outputs": [
    {
     "name": "stdout",
     "output_type": "stream",
     "text": [
      "INFO:llama_index.core.indices.loading:Loading all indices.\n",
      "Loading all indices.\n",
      "Loading all indices.\n",
      "Loading all indices.\n",
      "Loading all indices.\n",
      "Loading all indices.\n"
     ]
    }
   ],
   "source": [
    "onto_storage_context = StorageContext.from_defaults(persist_dir=\"onto_graph\")\n",
    "# Load the PropertyGraphIndex from the storage context\n",
    "\n",
    "onto_index = load_index_from_storage(onto_storage_context)"
   ]
  },
  {
   "cell_type": "code",
   "execution_count": 196,
   "id": "a182d5b8",
   "metadata": {},
   "outputs": [],
   "source": [
    "onto_index.property_graph_store.save_networkx_graph(\n",
    "    name=\"OntoGraph.html\"\n",
    ")"
   ]
  },
  {
   "cell_type": "markdown",
   "id": "79e4dcae",
   "metadata": {},
   "source": [
    "### Set retriever"
   ]
  },
  {
   "cell_type": "code",
   "execution_count": 197,
   "id": "bee17732",
   "metadata": {},
   "outputs": [],
   "source": [
    "onto_query_engine = onto_index.as_query_engine(\n",
    " include_text=True,\n",
    " similarity_top_k=8,\n",
    ")"
   ]
  },
  {
   "cell_type": "markdown",
   "id": "e95920ba",
   "metadata": {},
   "source": [
    "### Test retriever"
   ]
  },
  {
   "cell_type": "code",
   "execution_count": 198,
   "id": "4c400086",
   "metadata": {},
   "outputs": [
    {
     "data": {
      "application/vnd.jupyter.widget-view+json": {
       "model_id": "b0aa2c2aa361491a85b54c157d6639b3",
       "version_major": 2,
       "version_minor": 0
      },
      "text/plain": [
       "Batches:   0%|          | 0/1 [00:00<?, ?it/s]"
      ]
     },
     "metadata": {},
     "output_type": "display_data"
    },
    {
     "name": "stdout",
     "output_type": "stream",
     "text": [
      "INFO:httpx:HTTP Request: POST https://api.openai.com/v1/chat/completions \"HTTP/1.1 200 OK\"\n",
      "HTTP Request: POST https://api.openai.com/v1/chat/completions \"HTTP/1.1 200 OK\"\n",
      "HTTP Request: POST https://api.openai.com/v1/chat/completions \"HTTP/1.1 200 OK\"\n",
      "HTTP Request: POST https://api.openai.com/v1/chat/completions \"HTTP/1.1 200 OK\"\n",
      "HTTP Request: POST https://api.openai.com/v1/chat/completions \"HTTP/1.1 200 OK\"\n",
      "HTTP Request: POST https://api.openai.com/v1/chat/completions \"HTTP/1.1 200 OK\"\n",
      "INFO:httpx:HTTP Request: POST https://api.openai.com/v1/chat/completions \"HTTP/1.1 200 OK\"\n",
      "HTTP Request: POST https://api.openai.com/v1/chat/completions \"HTTP/1.1 200 OK\"\n",
      "HTTP Request: POST https://api.openai.com/v1/chat/completions \"HTTP/1.1 200 OK\"\n",
      "HTTP Request: POST https://api.openai.com/v1/chat/completions \"HTTP/1.1 200 OK\"\n",
      "HTTP Request: POST https://api.openai.com/v1/chat/completions \"HTTP/1.1 200 OK\"\n",
      "HTTP Request: POST https://api.openai.com/v1/chat/completions \"HTTP/1.1 200 OK\"\n"
     ]
    }
   ],
   "source": [
    "onto_rag_retriever = onto_index.as_retriever(\n",
    "    retriever_mode=\"hybrid\",  # or \"embedding\" or \"hybrid\"\n",
    "    verbose=True\n",
    ")\n",
    "\n",
    "response = onto_query_engine.query(\n",
    "    \"What is open model ?\",\n",
    ")"
   ]
  },
  {
   "cell_type": "code",
   "execution_count": 199,
   "id": "123366e4",
   "metadata": {},
   "outputs": [
    {
     "data": {
      "text/markdown": [
       "<b>An open model is a concept based on the free circulation of information and collaboration on an Internet scale. It involves studying socio-technical environments to understand the benefits and risks of interactions. Open models should be shared and are designed to be accessible to anyone, allowing contributions according to individual skills and constraints. They are part of a broader effort to democratize emerging concepts and enable citizens to master digital knowledge. Open models are seen as a long-term exploration, evolving over decades or even centuries, and are integral to building a digital commons and federating an ecosystem of stakeholders.</b>"
      ],
      "text/plain": [
       "<IPython.core.display.Markdown object>"
      ]
     },
     "metadata": {},
     "output_type": "display_data"
    }
   ],
   "source": [
    "display(Markdown(f\"<b>{response}</b>\"))"
   ]
  },
  {
   "cell_type": "markdown",
   "id": "474b65be-955e-44db-942e-27e235384f19",
   "metadata": {},
   "source": [
    "# Visualize knowledge graph"
   ]
  },
  {
   "cell_type": "code",
   "execution_count": 200,
   "id": "55ef03a2-2e7e-443d-865f-b6d991d16416",
   "metadata": {},
   "outputs": [],
   "source": [
    "nx_graph = graph_index.get_networkx_graph()"
   ]
  },
  {
   "cell_type": "code",
   "execution_count": 201,
   "id": "b9d58e14-0017-494f-98ec-ad8b30bf8c9b",
   "metadata": {},
   "outputs": [
    {
     "name": "stdout",
     "output_type": "stream",
     "text": [
      "Number of nodes in the knowledge graph: 97\n"
     ]
    }
   ],
   "source": [
    "# Count the number of nodes\n",
    "num_nodes = len(nx_graph.edges())\n",
    "\n",
    "print(f\"Number of nodes in the knowledge graph: {num_nodes}\")"
   ]
  },
  {
   "cell_type": "code",
   "execution_count": 202,
   "id": "a113918c-f195-4c8c-b0f3-c85d7a6c5d79",
   "metadata": {},
   "outputs": [
    {
     "name": "stdout",
     "output_type": "stream",
     "text": [
      "Graph with 150 nodes and 97 edges\n",
      "Nodes: ['Open artificial intelligence', 'Open models', 'Immature', 'Parent', 'Idea', 'Dream', 'Collective work', 'Open education', 'Removing barriers to education', 'Open educational resources', 'Training', 'The open university', 'Removing entry requirements', '1969', 'Protean', 'It professionals', 'Open education global network', 'Over 250 members', 'Unesco', 'Legal affairs recommendation', 'Open science', 'Isaac pitman', 'First distance learning courses', 'Digital', 'Relationship with knowledge', 'Communities', 'Co-produce digital commons', 'Open source software', 'Foundations of digital universe', 'History of open models', 'Digital evolution', 'Software world', 'Other fields of activity', 'Richard stallman', 'Gnu project', 'Free software movement', 'Reliability', 'Linus torvalds', 'Code on internet', 'Code', 'Gnu general public license', '1989', 'Open license', 'Computer scientists', 'Technical infrastructures', 'Wikipedia', 'Wiki technology', 'Age of generative ai', 'Trustworthy source', 'Open peer review', 'Umbrella term', 'Aims of open science', 'Scientific knowledge', 'Peer review', 'Researchers', 'Pre-publication platforms', 'History', 'Open source', '1998', 'Funding problem', 'Eniac', '1945', 'Grace hopper', 'Compiler a-2', 'Remington rand', 'Univac', 'Ibm', 'Unbundling', 'Object code only\" policy', 'Red hat', 'Free software', 'Divergent philosophies', 'Copyright vs copyleft', 'Bill gates', 'Basic programming language', 'Steve jobs and steve wozniak', 'Apple', 'U.s. copyright act of 1976', 'Situation', 'Copyleft', '1976', 'Open software foundation', 'Major hardware suppliers', 'Eric raymond', 'The cathedral and the bazaar', 'Everyone', 'Skills and means', 'Contribute', 'Contributions', 'Content of the knowledge base', 'Content', 'Github repository', 'Contribution', 'Mastery of git/github and markdown', 'Producing content', 'You', 'Education on open models', 'Making scientific research freely available', 'Transdisciplinarity', 'Reproduction of experiments', 'Our digital future', 'Internet', 'Realities of distributing scientific knowledge', 'Berlin declaration', 'Open access to knowledge', 'Nicolaus copernicus', 'De revolutionibus orbium coelestium', 'Heliocentrism', 'Sun is at center of universe', 'Anthropocene', 'Relationship to knowledge', 'Models', 'Period', 'Base', 'Education in open models', 'Education', 'Democratization of emerging concepts', 'Knowledge base', 'Finished', 'Kanban', 'See developments', 'Organizations', 'Understanding open models', 'Open innovation', 'Enriching oneself with external knowledge', 'Chesbrough', 'Open innovation into two aspects', 'Henry chesbrough', 'Book \"open innovation: the new imperative for creating and profiting from technology', 'Companies', 'Intellectual property', 'Goldcorp', 'Goldcorp challenge', 'Fractal graphics and taylor wall and associates', 'Computer model', 'Url', 'Https://osf.io/', 'Https://www.data.gouv.fr/fr/', 'Https://wiki.lafabriquedesmobilites.fr/wiki/guide_m%c3%a9thodologique_des_communs_num%c3%a9riques_de_la_mobilit%c3%a9', 'Https://freefairandalive.org/', 'Https://luniversitenumerique.fr/', 'Https://open-climate.org/', 'Https://florilege.ls2n.fr/', 'Https://elifesciences.org/articles/16800', 'Https://www.youtube.com/watch?v=8qpqusmlpxq', 'Https://open.science.gov/', 'Https://www.youtube.com/watch?v=spedk1tpbew', 'Https://core.ac.uk/', 'Https://fundoss.org/', 'Https://oasis.geneseo.edu/index.php']\n",
      "Edges: [('Open artificial intelligence', 'Open models'), ('Open models', 'Immature'), ('Open models', 'Parent'), ('Open models', 'Idea'), ('Open models', 'Dream'), ('Open models', 'Collective work'), ('Open education', 'Removing barriers to education'), ('Open education', 'Open educational resources'), ('Open education', 'Training'), ('Open education', 'It professionals'), ('Open educational resources', 'Protean'), ('Open educational resources', 'Unesco'), ('The open university', 'Removing entry requirements'), ('The open university', '1969'), ('Open education global network', 'Over 250 members'), ('Unesco', 'Legal affairs recommendation'), ('Unesco', 'Open science'), ('Open science', 'Making scientific research freely available'), ('Open science', 'Transdisciplinarity'), ('Open science', 'Reproduction of experiments'), ('Open science', 'Our digital future'), ('Isaac pitman', 'First distance learning courses'), ('Digital', 'Relationship with knowledge'), ('Communities', 'Co-produce digital commons'), ('Open source software', 'Foundations of digital universe'), ('History of open models', 'Digital evolution'), ('Software world', 'Other fields of activity'), ('Richard stallman', 'Gnu project'), ('Richard stallman', 'Free software movement'), ('Gnu project', 'Reliability'), ('Linus torvalds', 'Code on internet'), ('Linus torvalds', 'Code'), ('Gnu general public license', '1989'), ('Gnu general public license', 'Open license'), ('Computer scientists', 'Technical infrastructures'), ('Wikipedia', 'Wiki technology'), ('Wikipedia', 'Age of generative ai'), ('Wikipedia', 'Trustworthy source'), ('Open peer review', 'Umbrella term'), ('Open peer review', 'Aims of open science'), ('Scientific knowledge', 'Peer review'), ('Researchers', 'Pre-publication platforms'), ('History', 'Open source'), ('Open source', '1998'), ('Open source', 'Funding problem'), ('Eniac', '1945'), ('Grace hopper', 'Compiler a-2'), ('Remington rand', 'Univac'), ('Ibm', 'Unbundling'), ('Ibm', 'Object code only\" policy'), ('Ibm', 'Red hat'), ('Ibm', 'Free software'), ('Divergent philosophies', 'Copyright vs copyleft'), ('Bill gates', 'Basic programming language'), ('Steve jobs and steve wozniak', 'Apple'), ('U.s. copyright act of 1976', 'Situation'), ('Copyleft', '1976'), ('Open software foundation', 'Major hardware suppliers'), ('Eric raymond', 'The cathedral and the bazaar'), ('Everyone', 'Skills and means'), ('Everyone', 'Contribute'), ('Contributions', 'Content of the knowledge base'), ('Content', 'Github repository'), ('Contribution', 'Mastery of git/github and markdown'), ('Contribution', 'Producing content'), ('You', 'Education on open models'), ('Internet', 'Realities of distributing scientific knowledge'), ('Berlin declaration', 'Open access to knowledge'), ('Nicolaus copernicus', 'De revolutionibus orbium coelestium'), ('Heliocentrism', 'Sun is at center of universe'), ('Anthropocene', 'Relationship to knowledge'), ('Models', 'Period'), ('Base', 'Education in open models'), ('Education', 'Democratization of emerging concepts'), ('Knowledge base', 'Finished'), ('Kanban', 'See developments'), ('Organizations', 'Understanding open models'), ('Open innovation', 'Enriching oneself with external knowledge'), ('Chesbrough', 'Open innovation into two aspects'), ('Henry chesbrough', 'Book \"open innovation: the new imperative for creating and profiting from technology'), ('Companies', 'Intellectual property'), ('Goldcorp', 'Goldcorp challenge'), ('Fractal graphics and taylor wall and associates', 'Computer model'), ('Url', 'Https://osf.io/'), ('Url', 'Https://www.data.gouv.fr/fr/'), ('Url', 'Https://wiki.lafabriquedesmobilites.fr/wiki/guide_m%c3%a9thodologique_des_communs_num%c3%a9riques_de_la_mobilit%c3%a9'), ('Url', 'Https://freefairandalive.org/'), ('Url', 'Https://luniversitenumerique.fr/'), ('Url', 'Https://open-climate.org/'), ('Url', 'Https://florilege.ls2n.fr/'), ('Url', 'Https://elifesciences.org/articles/16800'), ('Url', 'Https://www.youtube.com/watch?v=8qpqusmlpxq'), ('Url', 'Https://open.science.gov/'), ('Url', 'Https://www.youtube.com/watch?v=spedk1tpbew'), ('Url', 'Https://core.ac.uk/'), ('Url', 'Https://fundoss.org/'), ('Url', 'Https://oasis.geneseo.edu/index.php')]\n"
     ]
    }
   ],
   "source": [
    "g = graph_index.get_networkx_graph()\n",
    "print(g)\n",
    "print(\"Nodes:\", g.nodes())\n",
    "print(\"Edges:\", g.edges())\n",
    "net = Network(notebook=True, cdn_resources=\"in_line\", directed=True)\n",
    "net.from_nx(g)\n",
    "\n",
    "with open(\"knowledge_graph.html\", \"w\", encoding=\"utf-8\") as f:\n",
    "    f.write(net.generate_html())"
   ]
  },
  {
   "cell_type": "markdown",
   "id": "3ab94fc0-2080-4869-94a0-b013dc0fbd9d",
   "metadata": {},
   "source": [
    "# (Simple) Query the vectors"
   ]
  },
  {
   "cell_type": "code",
   "execution_count": 203,
   "id": "6c93bdbb-aaa4-4658-aecf-1cd7b5038ba7",
   "metadata": {},
   "outputs": [
    {
     "data": {
      "application/vnd.jupyter.widget-view+json": {
       "model_id": "be36acf4923f4564b107d67e61c5a35c",
       "version_major": 2,
       "version_minor": 0
      },
      "text/plain": [
       "Batches:   0%|          | 0/1 [00:00<?, ?it/s]"
      ]
     },
     "metadata": {},
     "output_type": "display_data"
    },
    {
     "name": "stdout",
     "output_type": "stream",
     "text": [
      "INFO:httpx:HTTP Request: POST https://api.openai.com/v1/chat/completions \"HTTP/1.1 200 OK\"\n",
      "HTTP Request: POST https://api.openai.com/v1/chat/completions \"HTTP/1.1 200 OK\"\n",
      "HTTP Request: POST https://api.openai.com/v1/chat/completions \"HTTP/1.1 200 OK\"\n",
      "HTTP Request: POST https://api.openai.com/v1/chat/completions \"HTTP/1.1 200 OK\"\n",
      "HTTP Request: POST https://api.openai.com/v1/chat/completions \"HTTP/1.1 200 OK\"\n",
      "HTTP Request: POST https://api.openai.com/v1/chat/completions \"HTTP/1.1 200 OK\"\n"
     ]
    }
   ],
   "source": [
    "query = \"What is open model ?\"\n",
    "query_engine = simple_index.as_query_engine(\n",
    " include_text=True,\n",
    " response_mode=\"tree_summarize\",\n",
    " embedding_mode=\"hybrid\",\n",
    " similarity_top_k=8,\n",
    ")\n",
    "\n",
    "response = query_engine.query(query)"
   ]
  },
  {
   "cell_type": "code",
   "execution_count": 204,
   "id": "e2a871b4-70c8-45ed-a8b9-b2aaa8d15a0f",
   "metadata": {},
   "outputs": [
    {
     "data": {
      "text/markdown": [
       "<b>An open model is a mode of organization and knowledge production that relies on digital technology, the free circulation of information, and collaboration on an Internet scale. These models aim to benefit from the interactions between ecosystems and are characterized by shared governance. They encompass various fields such as open science, open education, open software, open data, and open hardware. Open models enable the co-production of digital commons, which can be freely used, studied, modified, and redistributed. They are part of a broader movement that seeks to understand the socio-technical environments built around digital commons and the benefits and risks of these interactions.</b>"
      ],
      "text/plain": [
       "<IPython.core.display.Markdown object>"
      ]
     },
     "metadata": {},
     "output_type": "display_data"
    }
   ],
   "source": [
    "display(Markdown(f\"<b>{response}</b>\"))"
   ]
  },
  {
   "cell_type": "markdown",
   "id": "b099031c-b137-468f-b20c-9c6fab1c4eb1",
   "metadata": {},
   "source": [
    "# (Simple) Query the knowledge graph "
   ]
  },
  {
   "cell_type": "code",
   "execution_count": 205,
   "id": "8948dd2b-acd4-4621-a2d1-b45034a21007",
   "metadata": {
    "scrolled": true
   },
   "outputs": [
    {
     "name": "stdout",
     "output_type": "stream",
     "text": [
      "INFO:httpx:HTTP Request: POST https://api.openai.com/v1/chat/completions \"HTTP/1.1 200 OK\"\n",
      "HTTP Request: POST https://api.openai.com/v1/chat/completions \"HTTP/1.1 200 OK\"\n",
      "HTTP Request: POST https://api.openai.com/v1/chat/completions \"HTTP/1.1 200 OK\"\n",
      "HTTP Request: POST https://api.openai.com/v1/chat/completions \"HTTP/1.1 200 OK\"\n",
      "HTTP Request: POST https://api.openai.com/v1/chat/completions \"HTTP/1.1 200 OK\"\n",
      "HTTP Request: POST https://api.openai.com/v1/chat/completions \"HTTP/1.1 200 OK\"\n"
     ]
    },
    {
     "data": {
      "application/vnd.jupyter.widget-view+json": {
       "model_id": "35d47390a066408d9c44862935c4b781",
       "version_major": 2,
       "version_minor": 0
      },
      "text/plain": [
       "Batches:   0%|          | 0/1 [00:00<?, ?it/s]"
      ]
     },
     "metadata": {},
     "output_type": "display_data"
    },
    {
     "name": "stdout",
     "output_type": "stream",
     "text": [
      "INFO:llama_index.core.indices.knowledge_graph.retrievers:> Querying with idx: ae053f60-f18a-4a7e-9f52-30349bb5f04a: Federating an ecosystem of stakeholders\n",
      "\n",
      "To carry out this education work on ...\n",
      "> Querying with idx: ae053f60-f18a-4a7e-9f52-30349bb5f04a: Federating an ecosystem of stakeholders\n",
      "\n",
      "To carry out this education work on ...\n",
      "> Querying with idx: ae053f60-f18a-4a7e-9f52-30349bb5f04a: Federating an ecosystem of stakeholders\n",
      "\n",
      "To carry out this education work on ...\n",
      "> Querying with idx: ae053f60-f18a-4a7e-9f52-30349bb5f04a: Federating an ecosystem of stakeholders\n",
      "\n",
      "To carry out this education work on ...\n",
      "> Querying with idx: ae053f60-f18a-4a7e-9f52-30349bb5f04a: Federating an ecosystem of stakeholders\n",
      "\n",
      "To carry out this education work on ...\n",
      "> Querying with idx: ae053f60-f18a-4a7e-9f52-30349bb5f04a: Federating an ecosystem of stakeholders\n",
      "\n",
      "To carry out this education work on ...\n",
      "INFO:llama_index.core.indices.knowledge_graph.retrievers:> Querying with idx: f08077e9-166e-43a7-a91d-e7f4a09b00f4: ---\n",
      "parent: \"[[Open Models]]\"\n",
      "---\n",
      "\n",
      "Open Artificial Intelligence.\n",
      "> Querying with idx: f08077e9-166e-43a7-a91d-e7f4a09b00f4: ---\n",
      "parent: \"[[Open Models]]\"\n",
      "---\n",
      "\n",
      "Open Artificial Intelligence.\n",
      "> Querying with idx: f08077e9-166e-43a7-a91d-e7f4a09b00f4: ---\n",
      "parent: \"[[Open Models]]\"\n",
      "---\n",
      "\n",
      "Open Artificial Intelligence.\n",
      "> Querying with idx: f08077e9-166e-43a7-a91d-e7f4a09b00f4: ---\n",
      "parent: \"[[Open Models]]\"\n",
      "---\n",
      "\n",
      "Open Artificial Intelligence.\n",
      "> Querying with idx: f08077e9-166e-43a7-a91d-e7f4a09b00f4: ---\n",
      "parent: \"[[Open Models]]\"\n",
      "---\n",
      "\n",
      "Open Artificial Intelligence.\n",
      "> Querying with idx: f08077e9-166e-43a7-a91d-e7f4a09b00f4: ---\n",
      "parent: \"[[Open Models]]\"\n",
      "---\n",
      "\n",
      "Open Artificial Intelligence.\n",
      "INFO:llama_index.core.indices.knowledge_graph.retrievers:> Querying with idx: dfcaca66-9644-4675-bdcb-de7ab6cb9ae9: The future\n",
      "\n",
      "No one reading this will see the full potential that open models ...\n",
      "> Querying with idx: dfcaca66-9644-4675-bdcb-de7ab6cb9ae9: The future\n",
      "\n",
      "No one reading this will see the full potential that open models ...\n",
      "> Querying with idx: dfcaca66-9644-4675-bdcb-de7ab6cb9ae9: The future\n",
      "\n",
      "No one reading this will see the full potential that open models ...\n",
      "> Querying with idx: dfcaca66-9644-4675-bdcb-de7ab6cb9ae9: The future\n",
      "\n",
      "No one reading this will see the full potential that open models ...\n",
      "> Querying with idx: dfcaca66-9644-4675-bdcb-de7ab6cb9ae9: The future\n",
      "\n",
      "No one reading this will see the full potential that open models ...\n",
      "> Querying with idx: dfcaca66-9644-4675-bdcb-de7ab6cb9ae9: The future\n",
      "\n",
      "No one reading this will see the full potential that open models ...\n",
      "INFO:llama_index.core.indices.knowledge_graph.retrievers:> Querying with idx: ce489f6b-0597-4bbc-8078-137f8d572fbd: ---\n",
      "parent: \"[[Open Models]]\"\n",
      "---\n",
      "> Querying with idx: ce489f6b-0597-4bbc-8078-137f8d572fbd: ---\n",
      "parent: \"[[Open Models]]\"\n",
      "---\n",
      "> Querying with idx: ce489f6b-0597-4bbc-8078-137f8d572fbd: ---\n",
      "parent: \"[[Open Models]]\"\n",
      "---\n",
      "> Querying with idx: ce489f6b-0597-4bbc-8078-137f8d572fbd: ---\n",
      "parent: \"[[Open Models]]\"\n",
      "---\n",
      "> Querying with idx: ce489f6b-0597-4bbc-8078-137f8d572fbd: ---\n",
      "parent: \"[[Open Models]]\"\n",
      "---\n",
      "> Querying with idx: ce489f6b-0597-4bbc-8078-137f8d572fbd: ---\n",
      "parent: \"[[Open Models]]\"\n",
      "---\n",
      "INFO:llama_index.core.indices.knowledge_graph.retrievers:> Querying with idx: 73c34626-33b7-4393-a853-e590af934735: ---\n",
      "parent: \"[[Open Models]]\"\n",
      "---\n",
      "> Querying with idx: 73c34626-33b7-4393-a853-e590af934735: ---\n",
      "parent: \"[[Open Models]]\"\n",
      "---\n",
      "> Querying with idx: 73c34626-33b7-4393-a853-e590af934735: ---\n",
      "parent: \"[[Open Models]]\"\n",
      "---\n",
      "> Querying with idx: 73c34626-33b7-4393-a853-e590af934735: ---\n",
      "parent: \"[[Open Models]]\"\n",
      "---\n",
      "> Querying with idx: 73c34626-33b7-4393-a853-e590af934735: ---\n",
      "parent: \"[[Open Models]]\"\n",
      "---\n",
      "> Querying with idx: 73c34626-33b7-4393-a853-e590af934735: ---\n",
      "parent: \"[[Open Models]]\"\n",
      "---\n",
      "INFO:llama_index.core.indices.knowledge_graph.retrievers:> Querying with idx: c72fcc46-0a54-4e7b-9064-960b40a60531: Importance of open models\n",
      "\n",
      "All open models are immature and their degree of m...\n",
      "> Querying with idx: c72fcc46-0a54-4e7b-9064-960b40a60531: Importance of open models\n",
      "\n",
      "All open models are immature and their degree of m...\n",
      "> Querying with idx: c72fcc46-0a54-4e7b-9064-960b40a60531: Importance of open models\n",
      "\n",
      "All open models are immature and their degree of m...\n",
      "> Querying with idx: c72fcc46-0a54-4e7b-9064-960b40a60531: Importance of open models\n",
      "\n",
      "All open models are immature and their degree of m...\n",
      "> Querying with idx: c72fcc46-0a54-4e7b-9064-960b40a60531: Importance of open models\n",
      "\n",
      "All open models are immature and their degree of m...\n",
      "> Querying with idx: c72fcc46-0a54-4e7b-9064-960b40a60531: Importance of open models\n",
      "\n",
      "All open models are immature and their degree of m...\n",
      "INFO:llama_index.core.indices.knowledge_graph.retrievers:> Querying with idx: c6e4971a-6e37-45f9-9e2b-1e923d6b02f7: The history of open models is intimately linked to the digital evolution. The...\n",
      "> Querying with idx: c6e4971a-6e37-45f9-9e2b-1e923d6b02f7: The history of open models is intimately linked to the digital evolution. The...\n",
      "> Querying with idx: c6e4971a-6e37-45f9-9e2b-1e923d6b02f7: The history of open models is intimately linked to the digital evolution. The...\n",
      "> Querying with idx: c6e4971a-6e37-45f9-9e2b-1e923d6b02f7: The history of open models is intimately linked to the digital evolution. The...\n",
      "> Querying with idx: c6e4971a-6e37-45f9-9e2b-1e923d6b02f7: The history of open models is intimately linked to the digital evolution. The...\n",
      "> Querying with idx: c6e4971a-6e37-45f9-9e2b-1e923d6b02f7: The history of open models is intimately linked to the digital evolution. The...\n",
      "INFO:llama_index.core.indices.knowledge_graph.retrievers:> Querying with idx: 9f6608b2-00aa-489d-8054-3779a3d098ae: Training in open models\n",
      "\n",
      "The base’s primary mission is to be a tool for educa...\n",
      "> Querying with idx: 9f6608b2-00aa-489d-8054-3779a3d098ae: Training in open models\n",
      "\n",
      "The base’s primary mission is to be a tool for educa...\n",
      "> Querying with idx: 9f6608b2-00aa-489d-8054-3779a3d098ae: Training in open models\n",
      "\n",
      "The base’s primary mission is to be a tool for educa...\n",
      "> Querying with idx: 9f6608b2-00aa-489d-8054-3779a3d098ae: Training in open models\n",
      "\n",
      "The base’s primary mission is to be a tool for educa...\n",
      "> Querying with idx: 9f6608b2-00aa-489d-8054-3779a3d098ae: Training in open models\n",
      "\n",
      "The base’s primary mission is to be a tool for educa...\n",
      "> Querying with idx: 9f6608b2-00aa-489d-8054-3779a3d098ae: Training in open models\n",
      "\n",
      "The base’s primary mission is to be a tool for educa...\n",
      "INFO:llama_index.core.indices.knowledge_graph.retrievers:> Querying with idx: 877549bd-9c34-4bc5-a24d-39830190dfd9: Contribute using content\n",
      "\n",
      "The contribution is not limited to producing the co...\n",
      "> Querying with idx: 877549bd-9c34-4bc5-a24d-39830190dfd9: Contribute using content\n",
      "\n",
      "The contribution is not limited to producing the co...\n",
      "> Querying with idx: 877549bd-9c34-4bc5-a24d-39830190dfd9: Contribute using content\n",
      "\n",
      "The contribution is not limited to producing the co...\n",
      "> Querying with idx: 877549bd-9c34-4bc5-a24d-39830190dfd9: Contribute using content\n",
      "\n",
      "The contribution is not limited to producing the co...\n",
      "> Querying with idx: 877549bd-9c34-4bc5-a24d-39830190dfd9: Contribute using content\n",
      "\n",
      "The contribution is not limited to producing the co...\n",
      "> Querying with idx: 877549bd-9c34-4bc5-a24d-39830190dfd9: Contribute using content\n",
      "\n",
      "The contribution is not limited to producing the co...\n",
      "INFO:httpx:HTTP Request: POST https://api.openai.com/v1/chat/completions \"HTTP/1.1 200 OK\"\n",
      "HTTP Request: POST https://api.openai.com/v1/chat/completions \"HTTP/1.1 200 OK\"\n",
      "HTTP Request: POST https://api.openai.com/v1/chat/completions \"HTTP/1.1 200 OK\"\n",
      "HTTP Request: POST https://api.openai.com/v1/chat/completions \"HTTP/1.1 200 OK\"\n",
      "HTTP Request: POST https://api.openai.com/v1/chat/completions \"HTTP/1.1 200 OK\"\n",
      "HTTP Request: POST https://api.openai.com/v1/chat/completions \"HTTP/1.1 200 OK\"\n"
     ]
    }
   ],
   "source": [
    "query = \"What is open model ?\"\n",
    "graph_query_engine = graph_index.as_query_engine(\n",
    " include_text=True,\n",
    " response_mode=\"tree_summarize\",\n",
    " embedding_mode=\"hybrid\",\n",
    " similarity_top_k=8,\n",
    ")\n",
    "\n",
    "response = graph_query_engine.query(query)"
   ]
  },
  {
   "cell_type": "code",
   "execution_count": 206,
   "id": "ff5382fd-1fc8-4faf-9356-c9bb3e478db5",
   "metadata": {
    "scrolled": true
   },
   "outputs": [
    {
     "data": {
      "text/markdown": [
       "<b>Open models are a concept that involves collaborative and open sharing of resources, particularly in the digital realm. They are considered a driving force in society, contributing to the digital revolution and impacting various fields such as education, industry, and science. Open models are characterized by their collective nature and are seen as a part of the broader movement towards open science and open education. They are still in varying stages of maturity but are integral to the architecture of systems that benefit from open collaboration and shared knowledge.</b>"
      ],
      "text/plain": [
       "<IPython.core.display.Markdown object>"
      ]
     },
     "metadata": {},
     "output_type": "display_data"
    }
   ],
   "source": [
    "display(Markdown(f\"<b>{response}</b>\"))"
   ]
  },
  {
   "cell_type": "markdown",
   "id": "bef119d0",
   "metadata": {},
   "source": [
    "# (Simple) Query the onto graph "
   ]
  },
  {
   "cell_type": "code",
   "execution_count": 207,
   "id": "a8db6420",
   "metadata": {},
   "outputs": [
    {
     "data": {
      "application/vnd.jupyter.widget-view+json": {
       "model_id": "92ff347774344a86a4c3cb00a9487eb0",
       "version_major": 2,
       "version_minor": 0
      },
      "text/plain": [
       "Batches:   0%|          | 0/1 [00:00<?, ?it/s]"
      ]
     },
     "metadata": {},
     "output_type": "display_data"
    },
    {
     "name": "stdout",
     "output_type": "stream",
     "text": [
      "INFO:httpx:HTTP Request: POST https://api.openai.com/v1/chat/completions \"HTTP/1.1 200 OK\"\n",
      "HTTP Request: POST https://api.openai.com/v1/chat/completions \"HTTP/1.1 200 OK\"\n",
      "HTTP Request: POST https://api.openai.com/v1/chat/completions \"HTTP/1.1 200 OK\"\n",
      "HTTP Request: POST https://api.openai.com/v1/chat/completions \"HTTP/1.1 200 OK\"\n",
      "HTTP Request: POST https://api.openai.com/v1/chat/completions \"HTTP/1.1 200 OK\"\n",
      "HTTP Request: POST https://api.openai.com/v1/chat/completions \"HTTP/1.1 200 OK\"\n",
      "INFO:httpx:HTTP Request: POST https://api.openai.com/v1/chat/completions \"HTTP/1.1 200 OK\"\n",
      "HTTP Request: POST https://api.openai.com/v1/chat/completions \"HTTP/1.1 200 OK\"\n",
      "HTTP Request: POST https://api.openai.com/v1/chat/completions \"HTTP/1.1 200 OK\"\n",
      "HTTP Request: POST https://api.openai.com/v1/chat/completions \"HTTP/1.1 200 OK\"\n",
      "HTTP Request: POST https://api.openai.com/v1/chat/completions \"HTTP/1.1 200 OK\"\n",
      "HTTP Request: POST https://api.openai.com/v1/chat/completions \"HTTP/1.1 200 OK\"\n"
     ]
    }
   ],
   "source": [
    "query = \"What is open model ?\"\n",
    "onto_query_engine = onto_index.as_query_engine(\n",
    " include_text=True,\n",
    " similarity_top_k=2,\n",
    ")\n",
    "\n",
    "response = onto_query_engine.query(query)"
   ]
  },
  {
   "cell_type": "code",
   "execution_count": 208,
   "id": "adcd4265",
   "metadata": {},
   "outputs": [
    {
     "data": {
      "text/markdown": [
       "<b>An open model is a concept based on the free circulation of information and collaboration on an Internet scale. It involves studying socio-technical environments to understand the benefits and risks of interactions. Open models should be shared and are designed to evolve over long periods, from decades to centuries. They aim to disseminate knowledge through educational work, acculturate citizens, and build a digital commons while federating an ecosystem of stakeholders. The understanding of open models increases comfort in contributing to them, and contributions can be made according to individual skills and means.</b>"
      ],
      "text/plain": [
       "<IPython.core.display.Markdown object>"
      ]
     },
     "metadata": {},
     "output_type": "display_data"
    }
   ],
   "source": [
    "display(Markdown(f\"<b>{response}</b>\"))"
   ]
  },
  {
   "cell_type": "markdown",
   "id": "582274ba",
   "metadata": {},
   "source": [
    "## (Node retriever)"
   ]
  },
  {
   "cell_type": "code",
   "execution_count": 209,
   "id": "16db2a58",
   "metadata": {},
   "outputs": [
    {
     "data": {
      "application/vnd.jupyter.widget-view+json": {
       "model_id": "3da3d00de0044ac1b42701a6dfb17e8a",
       "version_major": 2,
       "version_minor": 0
      },
      "text/plain": [
       "Batches:   0%|          | 0/1 [00:00<?, ?it/s]"
      ]
     },
     "metadata": {},
     "output_type": "display_data"
    },
    {
     "name": "stdout",
     "output_type": "stream",
     "text": [
      "INFO:httpx:HTTP Request: POST https://api.openai.com/v1/chat/completions \"HTTP/1.1 200 OK\"\n",
      "HTTP Request: POST https://api.openai.com/v1/chat/completions \"HTTP/1.1 200 OK\"\n",
      "HTTP Request: POST https://api.openai.com/v1/chat/completions \"HTTP/1.1 200 OK\"\n",
      "HTTP Request: POST https://api.openai.com/v1/chat/completions \"HTTP/1.1 200 OK\"\n",
      "HTTP Request: POST https://api.openai.com/v1/chat/completions \"HTTP/1.1 200 OK\"\n",
      "HTTP Request: POST https://api.openai.com/v1/chat/completions \"HTTP/1.1 200 OK\"\n",
      "Here are some facts extracted from the provided text:\n",
      "\n",
      "Open models -> BASED_ON -> digital\n",
      "Open models -> STUDY -> socio-technical environments\n",
      "Open models -> UNDERSTAND -> benefits and risks of interactions\n",
      "Open models -> SHOULD_BE -> shared\n",
      "Open models -> BASED_ON -> free circulation of information\n",
      "Open models -> BASED_ON -> collaboration on an Internet scale\n",
      "\n",
      "Federating an ecosystem of stakeholders\n",
      "\n",
      "To carry out this education work on open models and build up this base of knowledge, as well as recursively federating players, it will be important to work on setting up an ecosystem around this digital commons.\n",
      "\n",
      "A whole range of organizations can benefit from understanding open models and then support these initiatives.\n",
      "\n",
      "To make the project viable, one of the tasks will be to support the skills development of an ecosystem of players in the field of open models education, a trainer network who can then provide training within organizations or independently. Once the subject has been sufficiently mastered, it becomes conceivable to earn a living by contributing to this educational mission.\n",
      "\n",
      "To carry out the work around the base and open models, as these are major structuring and societal facts, as vague as they are complex, it’s people from a multiplicity of disciplines who can come and shape this dynamic, and whose help will be critical in this exploration.\n",
      "\n",
      "Open models are just an idea that’s out there - shouldn’t it be shared?\n",
      "Here are some facts extracted from the provided text:\n",
      "\n",
      "objectives -> AROUND -> base of knowledge on open models\n",
      "\n",
      "Open models are subjects that evolve over a long period of time, from decades to centuries, it’s a whole new world to explore.\n",
      "\n",
      "The objectives around the base of knowledge on open models are going to be to disseminate these models through educational work to acculturate the citizen of the XXIᵉ century, continue to build this digital common and federate an ecosystem of stakeholders around these dynamics to prepare for the future.\n",
      "\n",
      "In an open logic, everyone is free to contribute according to their skills, desires and financial/time/geographical/etc constraints. More details in the contribution guidelines.\n",
      "Here are some facts extracted from the provided text:\n",
      "\n",
      "understanding of open models -> INCREASES -> comfort in contributing\n",
      "awareness of open models -> IS_BENEFICIAL -> contribution\n",
      "\n",
      "Contribution guide\n",
      "\n",
      "Anything that raises awareness of open models is beneficial, any help is precious!\n",
      "\n",
      "Everyone can contribute according to their skills and means, so feel free if other ways of contributing come to mind.\n",
      "\n",
      "Contributions can be made both to the content of the knowledge base and in a more ancillary way.\n",
      "\n",
      "But above all, the more you understand about open models, the more comfortable you’ll be in your ability to contribute. Take the time to assimilate the subject ❤️\n",
      "Here are some facts extracted from the provided text:\n",
      "\n",
      "The Knowledge Base on Open Models -> TOPIC -> open models\n",
      "\n",
      "Presentation\n",
      "\n",
      "Open education is based on educational content known as open educational resources (OER), which can be freely used, modified and shared. These OER are then combined with all the pedagogical practices that can take shape around them, open educational practices, linked to the pedagogical practices found in education in general to seek to foster learning.\n",
      "\n",
      "Openness in education refers to both these resources and practices, but is also used to discuss the accessibility of distance learning through various technologies (digital, radio, television, etc.) to reduce both geographical and financial barriers\n",
      "\n",
      "Open educational resources are going to be protean: a textbook, a text, a video, an image, the slides of a presentation…\n",
      "\n",
      "**Some examples of open education and OER initiatives:**\n",
      "\n",
      "- 🇫🇷 The Forge of Digital Educational Commons, by the French Ministry of Education and the Association des enseignantes et enseignants d’informatique de France (AEIF)\n",
      "- 🇺🇸 LibreTexts, decentralized textbook library\n",
      "- Mason OER Metafinder (MOM), search engine for OER\n",
      "- 🇨🇭 Swiss Digital Skills Academy, swissuniversities initiative for open education training\n",
      "- Handbook of Open, Distance and Digital Education\n",
      "- The Knowledge Base on Open Models\n",
      "- Wikipedia\n",
      "\n",
      "The way in which these resources are built and used will depend on a whole range of strategies depending on the pedagogical context: face-to-face or distance learning, synchronous or asynchronous, with a more or less active pedagogy, based or not on a community of practice… Pedagogy in all its complexity enriches open education.\n",
      "\n",
      "Defining precisely what falls within the scope of open education remains tricky, a broad interpretation could encompass any content with pedagogical utility publicly accessible, transforming it into a ubiquitous dynamic with the digital.\n"
     ]
    }
   ],
   "source": [
    "retriever = onto_index.as_retriever(\n",
    "    include_text=True,  # include source text, default True\n",
    ")\n",
    "\n",
    "nodes = retriever.retrieve(\"What is open model ?\")\n",
    "\n",
    "\n",
    "for node in nodes:\n",
    "    print(node.text)\n"
   ]
  },
  {
   "cell_type": "markdown",
   "id": "6a895520-d196-476f-b569-69a67484c120",
   "metadata": {},
   "source": [
    "# Have a real chat with your data"
   ]
  },
  {
   "cell_type": "markdown",
   "id": "bea3764d-a084-4f36-9d8c-3613aa9fd835",
   "metadata": {},
   "source": [
    "## Set up the engines"
   ]
  },
  {
   "cell_type": "markdown",
   "id": "951e55a2-a9a9-4c4e-89a4-c4dfba55ebe4",
   "metadata": {},
   "source": [
    "### Vector engines"
   ]
  },
  {
   "cell_type": "code",
   "execution_count": 210,
   "id": "1581c90c-cf5a-40d3-81b0-086238068f6e",
   "metadata": {},
   "outputs": [],
   "source": [
    "memory = ChatMemoryBuffer.from_defaults(token_limit=3900)\n",
    "vector_chat_engine = simple_index.as_chat_engine(\n",
    "    chat_mode=\"condense_plus_context\",\n",
    "    memory=memory,\n",
    "    llm=llm,\n",
    "    context_prompt=(\n",
    "        \"You are a specialist about open models and you nurture a knowledge base on the subject\"\n",
    "        \"Be precise.\"\n",
    "        \".\"\n",
    "    ),\n",
    "    verbose=False,\n",
    ")"
   ]
  },
  {
   "cell_type": "markdown",
   "id": "315a1c22-111b-4793-8a3d-bd3eae7e3ec7",
   "metadata": {},
   "source": [
    "### Graph engines"
   ]
  },
  {
   "cell_type": "code",
   "execution_count": 211,
   "id": "98b73cc2-0588-4b96-9aa2-1dfaf4cadb17",
   "metadata": {},
   "outputs": [],
   "source": [
    "memory = ChatMemoryBuffer.from_defaults(token_limit=3900)\n",
    "graph_chat_engine = graph_index.as_chat_engine(\n",
    "    chat_mode=\"condense_plus_context\",\n",
    "    memory=memory,\n",
    "    llm=llm,\n",
    "    verbose=False,\n",
    ")"
   ]
  },
  {
   "cell_type": "markdown",
   "id": "6897ec22",
   "metadata": {},
   "source": [
    "### Onto engines"
   ]
  },
  {
   "cell_type": "code",
   "execution_count": 212,
   "id": "54d04e5e",
   "metadata": {},
   "outputs": [],
   "source": [
    "#onto_chat_engine = onto_index.query_engine(\n",
    "#    chat_mode=\"condense_plus_context\",\n",
    "#    llm=llm\n",
    "#)"
   ]
  },
  {
   "cell_type": "markdown",
   "id": "7d3e0a08-f6ff-4ee6-a165-9b9fd90621fa",
   "metadata": {},
   "source": [
    "## Generate"
   ]
  },
  {
   "cell_type": "code",
   "execution_count": 213,
   "id": "12804e2c",
   "metadata": {},
   "outputs": [],
   "source": [
    "graph_chat_engine.reset()"
   ]
  },
  {
   "cell_type": "code",
   "execution_count": 214,
   "id": "709a37e6",
   "metadata": {},
   "outputs": [],
   "source": [
    "memory = ChatMemoryBuffer.from_defaults(token_limit=3900)\n",
    "graph_chat_engine = graph_index.as_chat_engine(\n",
    "    chat_mode=\"condense_plus_context\",\n",
    "    memory=memory,\n",
    "    llm=llm,\n",
    "    context_prompt=(\n",
    "        \"You are a specialist about open models and you nurture a knowledge base on the subject\"\n",
    "        \"Be precise on concepts.\"\n",
    "        \" \"\n",
    "    ),\n",
    "    verbose=False,\n",
    ")"
   ]
  },
  {
   "cell_type": "code",
   "execution_count": 215,
   "id": "da3e3ebf-18dc-4bdc-87dc-58d0227e9c18",
   "metadata": {
    "scrolled": true
   },
   "outputs": [
    {
     "name": "stdout",
     "output_type": "stream",
     "text": [
      "INFO:llama_index.core.chat_engine.condense_plus_context:Condensed question: Based on your knowledge and your vision of the world, create a description of Open Access. It needs 5 parts : a definition, a presentation, a usage description, a landscape and history. \n",
      "Condensed question: Based on your knowledge and your vision of the world, create a description of Open Access. It needs 5 parts : a definition, a presentation, a usage description, a landscape and history. \n",
      "Condensed question: Based on your knowledge and your vision of the world, create a description of Open Access. It needs 5 parts : a definition, a presentation, a usage description, a landscape and history. \n",
      "Condensed question: Based on your knowledge and your vision of the world, create a description of Open Access. It needs 5 parts : a definition, a presentation, a usage description, a landscape and history. \n",
      "Condensed question: Based on your knowledge and your vision of the world, create a description of Open Access. It needs 5 parts : a definition, a presentation, a usage description, a landscape and history. \n",
      "Condensed question: Based on your knowledge and your vision of the world, create a description of Open Access. It needs 5 parts : a definition, a presentation, a usage description, a landscape and history. \n",
      "INFO:httpx:HTTP Request: POST https://api.openai.com/v1/chat/completions \"HTTP/1.1 200 OK\"\n",
      "HTTP Request: POST https://api.openai.com/v1/chat/completions \"HTTP/1.1 200 OK\"\n",
      "HTTP Request: POST https://api.openai.com/v1/chat/completions \"HTTP/1.1 200 OK\"\n",
      "HTTP Request: POST https://api.openai.com/v1/chat/completions \"HTTP/1.1 200 OK\"\n",
      "HTTP Request: POST https://api.openai.com/v1/chat/completions \"HTTP/1.1 200 OK\"\n",
      "HTTP Request: POST https://api.openai.com/v1/chat/completions \"HTTP/1.1 200 OK\"\n"
     ]
    },
    {
     "data": {
      "application/vnd.jupyter.widget-view+json": {
       "model_id": "12a0c6e9a1d14b0a95c1b25d43431f3b",
       "version_major": 2,
       "version_minor": 0
      },
      "text/plain": [
       "Batches:   0%|          | 0/1 [00:00<?, ?it/s]"
      ]
     },
     "metadata": {},
     "output_type": "display_data"
    },
    {
     "name": "stdout",
     "output_type": "stream",
     "text": [
      "INFO:llama_index.core.indices.knowledge_graph.retrievers:> Querying with idx: 6f14a825-36e2-4c54-a714-6cd3d582a4b2: > _Open Science is the practice of science in such a way that others can coll...\n",
      "> Querying with idx: 6f14a825-36e2-4c54-a714-6cd3d582a4b2: > _Open Science is the practice of science in such a way that others can coll...\n",
      "> Querying with idx: 6f14a825-36e2-4c54-a714-6cd3d582a4b2: > _Open Science is the practice of science in such a way that others can coll...\n",
      "> Querying with idx: 6f14a825-36e2-4c54-a714-6cd3d582a4b2: > _Open Science is the practice of science in such a way that others can coll...\n",
      "> Querying with idx: 6f14a825-36e2-4c54-a714-6cd3d582a4b2: > _Open Science is the practice of science in such a way that others can coll...\n",
      "> Querying with idx: 6f14a825-36e2-4c54-a714-6cd3d582a4b2: > _Open Science is the practice of science in such a way that others can coll...\n",
      "INFO:llama_index.core.indices.knowledge_graph.retrievers:> Querying with idx: d6c00799-f94e-4c3a-88cc-8ddabd8782fd: History of open science\n",
      "\n",
      "> _The Internet has fundamentally changed the practi...\n",
      "> Querying with idx: d6c00799-f94e-4c3a-88cc-8ddabd8782fd: History of open science\n",
      "\n",
      "> _The Internet has fundamentally changed the practi...\n",
      "> Querying with idx: d6c00799-f94e-4c3a-88cc-8ddabd8782fd: History of open science\n",
      "\n",
      "> _The Internet has fundamentally changed the practi...\n",
      "> Querying with idx: d6c00799-f94e-4c3a-88cc-8ddabd8782fd: History of open science\n",
      "\n",
      "> _The Internet has fundamentally changed the practi...\n",
      "> Querying with idx: d6c00799-f94e-4c3a-88cc-8ddabd8782fd: History of open science\n",
      "\n",
      "> _The Internet has fundamentally changed the practi...\n",
      "> Querying with idx: d6c00799-f94e-4c3a-88cc-8ddabd8782fd: History of open science\n",
      "\n",
      "> _The Internet has fundamentally changed the practi...\n",
      "INFO:llama_index.core.indices.knowledge_graph.retrievers:> Querying with idx: f30ce3cb-b4c9-4dad-ac08-945ba959e265: ---\n",
      "url: https://ec.europa.eu/info/research-and-innovation/strategy/strategy-...\n",
      "> Querying with idx: f30ce3cb-b4c9-4dad-ac08-945ba959e265: ---\n",
      "url: https://ec.europa.eu/info/research-and-innovation/strategy/strategy-...\n",
      "> Querying with idx: f30ce3cb-b4c9-4dad-ac08-945ba959e265: ---\n",
      "url: https://ec.europa.eu/info/research-and-innovation/strategy/strategy-...\n",
      "> Querying with idx: f30ce3cb-b4c9-4dad-ac08-945ba959e265: ---\n",
      "url: https://ec.europa.eu/info/research-and-innovation/strategy/strategy-...\n",
      "> Querying with idx: f30ce3cb-b4c9-4dad-ac08-945ba959e265: ---\n",
      "url: https://ec.europa.eu/info/research-and-innovation/strategy/strategy-...\n",
      "> Querying with idx: f30ce3cb-b4c9-4dad-ac08-945ba959e265: ---\n",
      "url: https://ec.europa.eu/info/research-and-innovation/strategy/strategy-...\n",
      "INFO:llama_index.core.indices.knowledge_graph.retrievers:> Querying with idx: 4b3bebe6-82d8-4d79-a9e1-f28a0693f4cc: Towards a second scientific revolution?\n",
      "\n",
      "The Anthropocene, with the existenti...\n",
      "> Querying with idx: 4b3bebe6-82d8-4d79-a9e1-f28a0693f4cc: Towards a second scientific revolution?\n",
      "\n",
      "The Anthropocene, with the existenti...\n",
      "> Querying with idx: 4b3bebe6-82d8-4d79-a9e1-f28a0693f4cc: Towards a second scientific revolution?\n",
      "\n",
      "The Anthropocene, with the existenti...\n",
      "> Querying with idx: 4b3bebe6-82d8-4d79-a9e1-f28a0693f4cc: Towards a second scientific revolution?\n",
      "\n",
      "The Anthropocene, with the existenti...\n",
      "> Querying with idx: 4b3bebe6-82d8-4d79-a9e1-f28a0693f4cc: Towards a second scientific revolution?\n",
      "\n",
      "The Anthropocene, with the existenti...\n",
      "> Querying with idx: 4b3bebe6-82d8-4d79-a9e1-f28a0693f4cc: Towards a second scientific revolution?\n",
      "\n",
      "The Anthropocene, with the existenti...\n",
      "INFO:llama_index.core.indices.knowledge_graph.retrievers:> Querying with idx: f8a1da41-fef2-41e7-a24a-d587aacdc991: ---\n",
      "url: https://science.nasa.gov/open-science/transform-to-open-science\n",
      "---\n",
      "> Querying with idx: f8a1da41-fef2-41e7-a24a-d587aacdc991: ---\n",
      "url: https://science.nasa.gov/open-science/transform-to-open-science\n",
      "---\n",
      "> Querying with idx: f8a1da41-fef2-41e7-a24a-d587aacdc991: ---\n",
      "url: https://science.nasa.gov/open-science/transform-to-open-science\n",
      "---\n",
      "> Querying with idx: f8a1da41-fef2-41e7-a24a-d587aacdc991: ---\n",
      "url: https://science.nasa.gov/open-science/transform-to-open-science\n",
      "---\n",
      "> Querying with idx: f8a1da41-fef2-41e7-a24a-d587aacdc991: ---\n",
      "url: https://science.nasa.gov/open-science/transform-to-open-science\n",
      "---\n",
      "> Querying with idx: f8a1da41-fef2-41e7-a24a-d587aacdc991: ---\n",
      "url: https://science.nasa.gov/open-science/transform-to-open-science\n",
      "---\n",
      "INFO:llama_index.core.indices.knowledge_graph.retrievers:> Querying with idx: 3b4ccb0f-a2ae-4df1-92fa-27514ea0002b: ---\n",
      "url: https://www.ouvrirlascience.fr/second-national-plan-for-open-science...\n",
      "> Querying with idx: 3b4ccb0f-a2ae-4df1-92fa-27514ea0002b: ---\n",
      "url: https://www.ouvrirlascience.fr/second-national-plan-for-open-science...\n",
      "> Querying with idx: 3b4ccb0f-a2ae-4df1-92fa-27514ea0002b: ---\n",
      "url: https://www.ouvrirlascience.fr/second-national-plan-for-open-science...\n",
      "> Querying with idx: 3b4ccb0f-a2ae-4df1-92fa-27514ea0002b: ---\n",
      "url: https://www.ouvrirlascience.fr/second-national-plan-for-open-science...\n",
      "> Querying with idx: 3b4ccb0f-a2ae-4df1-92fa-27514ea0002b: ---\n",
      "url: https://www.ouvrirlascience.fr/second-national-plan-for-open-science...\n",
      "> Querying with idx: 3b4ccb0f-a2ae-4df1-92fa-27514ea0002b: ---\n",
      "url: https://www.ouvrirlascience.fr/second-national-plan-for-open-science...\n",
      "INFO:llama_index.core.indices.knowledge_graph.retrievers:> Querying with idx: 837c1492-c47d-4502-b3fe-06a939669f44: ---\n",
      "url: https://research-and-innovation.ec.europa.eu/strategy/strategy-2020-...\n",
      "> Querying with idx: 837c1492-c47d-4502-b3fe-06a939669f44: ---\n",
      "url: https://research-and-innovation.ec.europa.eu/strategy/strategy-2020-...\n",
      "> Querying with idx: 837c1492-c47d-4502-b3fe-06a939669f44: ---\n",
      "url: https://research-and-innovation.ec.europa.eu/strategy/strategy-2020-...\n",
      "> Querying with idx: 837c1492-c47d-4502-b3fe-06a939669f44: ---\n",
      "url: https://research-and-innovation.ec.europa.eu/strategy/strategy-2020-...\n",
      "> Querying with idx: 837c1492-c47d-4502-b3fe-06a939669f44: ---\n",
      "url: https://research-and-innovation.ec.europa.eu/strategy/strategy-2020-...\n",
      "> Querying with idx: 837c1492-c47d-4502-b3fe-06a939669f44: ---\n",
      "url: https://research-and-innovation.ec.europa.eu/strategy/strategy-2020-...\n",
      "INFO:llama_index.core.indices.knowledge_graph.retrievers:> Querying with idx: 84acc7b5-ec79-467b-8924-82411d15fbd3: ---\n",
      "url: https://www.unesco.org/en/open-science/about\n",
      "---\n",
      "> Querying with idx: 84acc7b5-ec79-467b-8924-82411d15fbd3: ---\n",
      "url: https://www.unesco.org/en/open-science/about\n",
      "---\n",
      "> Querying with idx: 84acc7b5-ec79-467b-8924-82411d15fbd3: ---\n",
      "url: https://www.unesco.org/en/open-science/about\n",
      "---\n",
      "> Querying with idx: 84acc7b5-ec79-467b-8924-82411d15fbd3: ---\n",
      "url: https://www.unesco.org/en/open-science/about\n",
      "---\n",
      "> Querying with idx: 84acc7b5-ec79-467b-8924-82411d15fbd3: ---\n",
      "url: https://www.unesco.org/en/open-science/about\n",
      "---\n",
      "> Querying with idx: 84acc7b5-ec79-467b-8924-82411d15fbd3: ---\n",
      "url: https://www.unesco.org/en/open-science/about\n",
      "---\n"
     ]
    }
   ],
   "source": [
    "response_stream = graph_chat_engine.stream_chat(\"\"\"Based on your knowledge and your vision of the world, create a description of Open Access. It needs 5 parts : a definition, a presentation, a usage description, a landscape and history. \"\"\")"
   ]
  },
  {
   "cell_type": "code",
   "execution_count": 216,
   "id": "91ebf21f-1990-4a4d-9c9a-868872f03042",
   "metadata": {
    "scrolled": true
   },
   "outputs": [
    {
     "name": "stdout",
     "output_type": "stream",
     "text": [
      "INFO:httpx:HTTP Request: POST https://api.openai.com/v1/chat/completions \"HTTP/1.1 200 OK\"\n",
      "HTTP Request: POST https://api.openai.com/v1/chat/completions \"HTTP/1.1 200 OK\"\n",
      "HTTP Request: POST https://api.openai.com/v1/chat/completions \"HTTP/1.1 200 OK\"\n",
      "HTTP Request: POST https://api.openai.com/v1/chat/completions \"HTTP/1.1 200 OK\"\n",
      "HTTP Request: POST https://api.openai.com/v1/chat/completions \"HTTP/1.1 200 OK\"\n",
      "HTTP Request: POST https://api.openai.com/v1/chat/completions \"HTTP/1.1 200 OK\"\n",
      "### Definition\n",
      "Open Access (OA) refers to the practice of providing unrestricted online access to scholarly research outputs, such as journal articles, conference papers, theses, and book chapters. The primary goal of Open Access is to make research freely available to anyone with internet access, thereby promoting the dissemination and exchange of knowledge without financial, legal, or technical barriers.\n",
      "\n",
      "### Presentation\n",
      "Open Access is a transformative approach to scholarly publishing that challenges traditional subscription-based models. It is characterized by the removal of paywalls and subscription fees, allowing researchers, students, policymakers, and the general public to access academic content without cost. Open Access can be achieved through various models, including the \"Gold\" model, where authors or their institutions pay publication fees to make articles freely available, and the \"Green\" model, where authors self-archive preprints or postprints in institutional or subject repositories.\n",
      "\n",
      "### Usage Description\n",
      "Open Access is utilized by a wide range of stakeholders in the academic and research communities. Researchers benefit from increased visibility and citation of their work, as Open Access articles are accessible to a broader audience. Libraries and institutions can reduce subscription costs and expand their collections. Policymakers and practitioners gain access to the latest research findings, which can inform decision-making and practice. Additionally, educators and students can freely access a wealth of resources for teaching and learning.\n",
      "\n",
      "### Landscape\n",
      "The Open Access landscape is diverse and continually evolving. It includes a variety of stakeholders such as academic publishers, research institutions, funding agencies, and advocacy groups. Major initiatives and platforms, like the Directory of Open Access Journals (DOAJ), arXiv, and PubMed Central, play significant roles in promoting and facilitating Open Access. The landscape is also shaped by policies and mandates from governments and funding bodies that require publicly funded research to be openly accessible. The rise of preprint servers and open data initiatives further enriches the Open Access ecosystem.\n",
      "\n",
      "### History\n",
      "The concept of Open Access emerged in the late 20th century as a response to the rising costs of journal subscriptions and the limitations they imposed on the dissemination of research. The Budapest Open Access Initiative in 2002 is often cited as a pivotal moment, as it articulated a clear vision for Open Access and called for the removal of access barriers. Since then, numerous declarations and statements, such as the Berlin Declaration on Open Access to Knowledge in the Sciences and Humanities (2003), have reinforced the movement. Over the years, technological advancements and the growing demand for transparency and accessibility in research have propelled the Open Access movement forward, leading to significant changes in scholarly communication practices."
     ]
    }
   ],
   "source": [
    "generate = response_stream.print_response_stream()\n"
   ]
  },
  {
   "cell_type": "code",
   "execution_count": 217,
   "id": "5a056a17",
   "metadata": {},
   "outputs": [
    {
     "data": {
      "text/markdown": [
       "<b>None</b>"
      ],
      "text/plain": [
       "<IPython.core.display.Markdown object>"
      ]
     },
     "metadata": {},
     "output_type": "display_data"
    }
   ],
   "source": [
    "display(Markdown(f\"<b>{generate}</b>\"))"
   ]
  },
  {
   "cell_type": "code",
   "execution_count": 218,
   "id": "6660a81e-ad67-4d44-a86d-0ad7b77f626e",
   "metadata": {},
   "outputs": [],
   "source": [
    "section_modele = \"\"\" \n",
    "\n",
    "\n",
    "\"\"\""
   ]
  },
  {
   "cell_type": "code",
   "execution_count": 219,
   "id": "9c0e462e-d3ee-463a-8d49-f09dc2396b8d",
   "metadata": {
    "scrolled": true
   },
   "outputs": [
    {
     "name": "stdout",
     "output_type": "stream",
     "text": [
      "INFO:httpx:HTTP Request: POST https://api.openai.com/v1/chat/completions \"HTTP/1.1 200 OK\"\n",
      "HTTP Request: POST https://api.openai.com/v1/chat/completions \"HTTP/1.1 200 OK\"\n",
      "HTTP Request: POST https://api.openai.com/v1/chat/completions \"HTTP/1.1 200 OK\"\n",
      "HTTP Request: POST https://api.openai.com/v1/chat/completions \"HTTP/1.1 200 OK\"\n",
      "HTTP Request: POST https://api.openai.com/v1/chat/completions \"HTTP/1.1 200 OK\"\n",
      "HTTP Request: POST https://api.openai.com/v1/chat/completions \"HTTP/1.1 200 OK\"\n",
      "INFO:llama_index.core.chat_engine.condense_plus_context:Condensed question: Based on your knowledge and your vision of the world, create a description of Open Business. It needs 5 parts: a definition, a presentation, a usage description, a landscape, and history. Please imitate the writing style used in the description of Open Access.\n",
      "Condensed question: Based on your knowledge and your vision of the world, create a description of Open Business. It needs 5 parts: a definition, a presentation, a usage description, a landscape, and history. Please imitate the writing style used in the description of Open Access.\n",
      "Condensed question: Based on your knowledge and your vision of the world, create a description of Open Business. It needs 5 parts: a definition, a presentation, a usage description, a landscape, and history. Please imitate the writing style used in the description of Open Access.\n",
      "Condensed question: Based on your knowledge and your vision of the world, create a description of Open Business. It needs 5 parts: a definition, a presentation, a usage description, a landscape, and history. Please imitate the writing style used in the description of Open Access.\n",
      "Condensed question: Based on your knowledge and your vision of the world, create a description of Open Business. It needs 5 parts: a definition, a presentation, a usage description, a landscape, and history. Please imitate the writing style used in the description of Open Access.\n",
      "Condensed question: Based on your knowledge and your vision of the world, create a description of Open Business. It needs 5 parts: a definition, a presentation, a usage description, a landscape, and history. Please imitate the writing style used in the description of Open Access.\n",
      "INFO:httpx:HTTP Request: POST https://api.openai.com/v1/chat/completions \"HTTP/1.1 200 OK\"\n",
      "HTTP Request: POST https://api.openai.com/v1/chat/completions \"HTTP/1.1 200 OK\"\n",
      "HTTP Request: POST https://api.openai.com/v1/chat/completions \"HTTP/1.1 200 OK\"\n",
      "HTTP Request: POST https://api.openai.com/v1/chat/completions \"HTTP/1.1 200 OK\"\n",
      "HTTP Request: POST https://api.openai.com/v1/chat/completions \"HTTP/1.1 200 OK\"\n",
      "HTTP Request: POST https://api.openai.com/v1/chat/completions \"HTTP/1.1 200 OK\"\n"
     ]
    },
    {
     "data": {
      "application/vnd.jupyter.widget-view+json": {
       "model_id": "d60bdbd755144d97b7190aabaad296b3",
       "version_major": 2,
       "version_minor": 0
      },
      "text/plain": [
       "Batches:   0%|          | 0/1 [00:00<?, ?it/s]"
      ]
     },
     "metadata": {},
     "output_type": "display_data"
    },
    {
     "name": "stdout",
     "output_type": "stream",
     "text": [
      "INFO:llama_index.core.indices.knowledge_graph.retrievers:> Querying with idx: ae053f60-f18a-4a7e-9f52-30349bb5f04a: Federating an ecosystem of stakeholders\n",
      "\n",
      "To carry out this education work on ...\n",
      "> Querying with idx: ae053f60-f18a-4a7e-9f52-30349bb5f04a: Federating an ecosystem of stakeholders\n",
      "\n",
      "To carry out this education work on ...\n",
      "> Querying with idx: ae053f60-f18a-4a7e-9f52-30349bb5f04a: Federating an ecosystem of stakeholders\n",
      "\n",
      "To carry out this education work on ...\n",
      "> Querying with idx: ae053f60-f18a-4a7e-9f52-30349bb5f04a: Federating an ecosystem of stakeholders\n",
      "\n",
      "To carry out this education work on ...\n",
      "> Querying with idx: ae053f60-f18a-4a7e-9f52-30349bb5f04a: Federating an ecosystem of stakeholders\n",
      "\n",
      "To carry out this education work on ...\n",
      "> Querying with idx: ae053f60-f18a-4a7e-9f52-30349bb5f04a: Federating an ecosystem of stakeholders\n",
      "\n",
      "To carry out this education work on ...\n",
      "INFO:llama_index.core.indices.knowledge_graph.retrievers:> Querying with idx: 5276c780-50eb-49c6-92c1-e79022abed9e: ---\n",
      "url: https://github.com/OpenDesign-WorkingGroup/Open-Design-Definition/bl...\n",
      "> Querying with idx: 5276c780-50eb-49c6-92c1-e79022abed9e: ---\n",
      "url: https://github.com/OpenDesign-WorkingGroup/Open-Design-Definition/bl...\n",
      "> Querying with idx: 5276c780-50eb-49c6-92c1-e79022abed9e: ---\n",
      "url: https://github.com/OpenDesign-WorkingGroup/Open-Design-Definition/bl...\n",
      "> Querying with idx: 5276c780-50eb-49c6-92c1-e79022abed9e: ---\n",
      "url: https://github.com/OpenDesign-WorkingGroup/Open-Design-Definition/bl...\n",
      "> Querying with idx: 5276c780-50eb-49c6-92c1-e79022abed9e: ---\n",
      "url: https://github.com/OpenDesign-WorkingGroup/Open-Design-Definition/bl...\n",
      "> Querying with idx: 5276c780-50eb-49c6-92c1-e79022abed9e: ---\n",
      "url: https://github.com/OpenDesign-WorkingGroup/Open-Design-Definition/bl...\n"
     ]
    }
   ],
   "source": [
    "response_stream = graph_chat_engine.stream_chat(\"\"\"Based on your knowledge and your vision of the world, create a description of Open Business. It needs 5 parts : a definition, a presentation, a usage description, a landscape and history. Imitate the writing style of : {section_modele}\"\"\")"
   ]
  },
  {
   "cell_type": "code",
   "execution_count": 220,
   "id": "c86075ee-12c8-4b97-8b51-0c717fc4b1d8",
   "metadata": {
    "scrolled": true
   },
   "outputs": [
    {
     "name": "stdout",
     "output_type": "stream",
     "text": [
      "INFO:httpx:HTTP Request: POST https://api.openai.com/v1/chat/completions \"HTTP/1.1 200 OK\"\n",
      "HTTP Request: POST https://api.openai.com/v1/chat/completions \"HTTP/1.1 200 OK\"\n",
      "HTTP Request: POST https://api.openai.com/v1/chat/completions \"HTTP/1.1 200 OK\"\n",
      "HTTP Request: POST https://api.openai.com/v1/chat/completions \"HTTP/1.1 200 OK\"\n",
      "HTTP Request: POST https://api.openai.com/v1/chat/completions \"HTTP/1.1 200 OK\"\n",
      "HTTP Request: POST https://api.openai.com/v1/chat/completions \"HTTP/1.1 200 OK\"\n",
      "### Definition\n",
      "Open Business refers to a business model that emphasizes transparency, collaboration, and shared value creation. It involves engaging stakeholders, including customers, employees, partners, and the broader community, in the decision-making processes and operations of the business. Open Business practices often include open innovation, open data, and open collaboration, aiming to foster a more inclusive and participatory approach to business.\n",
      "\n",
      "### Presentation\n",
      "Open Business is a paradigm shift from traditional, closed business models that prioritize proprietary information and competitive secrecy. It advocates for openness in various aspects of business operations, such as sharing knowledge, co-developing products, and engaging in transparent communication. By leveraging collective intelligence and diverse perspectives, Open Business seeks to drive innovation, enhance trust, and create sustainable value for all stakeholders involved.\n",
      "\n",
      "### Usage Description\n",
      "Open Business practices are employed by organizations seeking to enhance innovation, improve customer engagement, and build resilient ecosystems. Companies may use open innovation platforms to crowdsource ideas and solutions from external contributors. Open data initiatives can provide valuable insights and drive data-driven decision-making. Collaborative partnerships with other businesses, non-profits, and communities can lead to co-created products and services that better meet the needs of the market. Open Business also encourages ethical practices and social responsibility, aligning business goals with societal values.\n",
      "\n",
      "### Landscape\n",
      "The Open Business landscape is characterized by a diverse array of industries and sectors adopting open practices. Technology companies, particularly those in software and digital services, have been at the forefront, with open-source software being a prime example. However, Open Business principles are increasingly being adopted in sectors such as manufacturing, healthcare, and finance. The landscape is supported by a growing number of platforms and tools that facilitate collaboration and transparency, as well as a cultural shift towards valuing openness and shared value creation.\n",
      "\n",
      "### History\n",
      "The roots of Open Business can be traced back to the open-source software movement in the late 20th century, which demonstrated the power of collaborative development and shared knowledge. As the internet and digital technologies advanced, the principles of openness began to permeate other areas of business. The early 2000s saw the rise of open innovation as companies recognized the benefits of tapping into external ideas and expertise. Over time, the concept of Open Business has evolved to encompass a broader range of practices and industries, driven by the increasing demand for transparency, accountability, and sustainable business practices in a rapidly changing world."
     ]
    }
   ],
   "source": [
    "generate = response_stream.print_response_stream()\n"
   ]
  },
  {
   "cell_type": "code",
   "execution_count": 221,
   "id": "89855a53",
   "metadata": {},
   "outputs": [
    {
     "name": "stdout",
     "output_type": "stream",
     "text": [
      "INFO:httpx:HTTP Request: POST https://api.openai.com/v1/chat/completions \"HTTP/1.1 200 OK\"\n",
      "HTTP Request: POST https://api.openai.com/v1/chat/completions \"HTTP/1.1 200 OK\"\n",
      "HTTP Request: POST https://api.openai.com/v1/chat/completions \"HTTP/1.1 200 OK\"\n",
      "HTTP Request: POST https://api.openai.com/v1/chat/completions \"HTTP/1.1 200 OK\"\n",
      "HTTP Request: POST https://api.openai.com/v1/chat/completions \"HTTP/1.1 200 OK\"\n",
      "HTTP Request: POST https://api.openai.com/v1/chat/completions \"HTTP/1.1 200 OK\"\n",
      "INFO:llama_index.core.chat_engine.condense_plus_context:Condensed question: Based on your knowledge and your vision of the world, create a description of Open Banking. It needs 5 parts: a definition, a presentation, a usage description, a landscape, and history. Please imitate the writing style used in the previous descriptions of Open Access and Open Business.\n",
      "Condensed question: Based on your knowledge and your vision of the world, create a description of Open Banking. It needs 5 parts: a definition, a presentation, a usage description, a landscape, and history. Please imitate the writing style used in the previous descriptions of Open Access and Open Business.\n",
      "Condensed question: Based on your knowledge and your vision of the world, create a description of Open Banking. It needs 5 parts: a definition, a presentation, a usage description, a landscape, and history. Please imitate the writing style used in the previous descriptions of Open Access and Open Business.\n",
      "Condensed question: Based on your knowledge and your vision of the world, create a description of Open Banking. It needs 5 parts: a definition, a presentation, a usage description, a landscape, and history. Please imitate the writing style used in the previous descriptions of Open Access and Open Business.\n",
      "Condensed question: Based on your knowledge and your vision of the world, create a description of Open Banking. It needs 5 parts: a definition, a presentation, a usage description, a landscape, and history. Please imitate the writing style used in the previous descriptions of Open Access and Open Business.\n",
      "Condensed question: Based on your knowledge and your vision of the world, create a description of Open Banking. It needs 5 parts: a definition, a presentation, a usage description, a landscape, and history. Please imitate the writing style used in the previous descriptions of Open Access and Open Business.\n",
      "INFO:httpx:HTTP Request: POST https://api.openai.com/v1/chat/completions \"HTTP/1.1 200 OK\"\n",
      "HTTP Request: POST https://api.openai.com/v1/chat/completions \"HTTP/1.1 200 OK\"\n",
      "HTTP Request: POST https://api.openai.com/v1/chat/completions \"HTTP/1.1 200 OK\"\n",
      "HTTP Request: POST https://api.openai.com/v1/chat/completions \"HTTP/1.1 200 OK\"\n",
      "HTTP Request: POST https://api.openai.com/v1/chat/completions \"HTTP/1.1 200 OK\"\n",
      "HTTP Request: POST https://api.openai.com/v1/chat/completions \"HTTP/1.1 200 OK\"\n"
     ]
    },
    {
     "data": {
      "application/vnd.jupyter.widget-view+json": {
       "model_id": "203b0dd080bf4a46a16de296fc571ff7",
       "version_major": 2,
       "version_minor": 0
      },
      "text/plain": [
       "Batches:   0%|          | 0/1 [00:00<?, ?it/s]"
      ]
     },
     "metadata": {},
     "output_type": "display_data"
    },
    {
     "name": "stdout",
     "output_type": "stream",
     "text": [
      "INFO:llama_index.core.indices.knowledge_graph.retrievers:> Querying with idx: 5276c780-50eb-49c6-92c1-e79022abed9e: ---\n",
      "url: https://github.com/OpenDesign-WorkingGroup/Open-Design-Definition/bl...\n",
      "> Querying with idx: 5276c780-50eb-49c6-92c1-e79022abed9e: ---\n",
      "url: https://github.com/OpenDesign-WorkingGroup/Open-Design-Definition/bl...\n",
      "> Querying with idx: 5276c780-50eb-49c6-92c1-e79022abed9e: ---\n",
      "url: https://github.com/OpenDesign-WorkingGroup/Open-Design-Definition/bl...\n",
      "> Querying with idx: 5276c780-50eb-49c6-92c1-e79022abed9e: ---\n",
      "url: https://github.com/OpenDesign-WorkingGroup/Open-Design-Definition/bl...\n",
      "> Querying with idx: 5276c780-50eb-49c6-92c1-e79022abed9e: ---\n",
      "url: https://github.com/OpenDesign-WorkingGroup/Open-Design-Definition/bl...\n",
      "> Querying with idx: 5276c780-50eb-49c6-92c1-e79022abed9e: ---\n",
      "url: https://github.com/OpenDesign-WorkingGroup/Open-Design-Definition/bl...\n",
      "INFO:llama_index.core.indices.knowledge_graph.retrievers:> Querying with idx: ae053f60-f18a-4a7e-9f52-30349bb5f04a: Federating an ecosystem of stakeholders\n",
      "\n",
      "To carry out this education work on ...\n",
      "> Querying with idx: ae053f60-f18a-4a7e-9f52-30349bb5f04a: Federating an ecosystem of stakeholders\n",
      "\n",
      "To carry out this education work on ...\n",
      "> Querying with idx: ae053f60-f18a-4a7e-9f52-30349bb5f04a: Federating an ecosystem of stakeholders\n",
      "\n",
      "To carry out this education work on ...\n",
      "> Querying with idx: ae053f60-f18a-4a7e-9f52-30349bb5f04a: Federating an ecosystem of stakeholders\n",
      "\n",
      "To carry out this education work on ...\n",
      "> Querying with idx: ae053f60-f18a-4a7e-9f52-30349bb5f04a: Federating an ecosystem of stakeholders\n",
      "\n",
      "To carry out this education work on ...\n",
      "> Querying with idx: ae053f60-f18a-4a7e-9f52-30349bb5f04a: Federating an ecosystem of stakeholders\n",
      "\n",
      "To carry out this education work on ...\n",
      "INFO:llama_index.core.indices.knowledge_graph.retrievers:> Querying with idx: c72fcc46-0a54-4e7b-9064-960b40a60531: Importance of open models\n",
      "\n",
      "All open models are immature and their degree of m...\n",
      "> Querying with idx: c72fcc46-0a54-4e7b-9064-960b40a60531: Importance of open models\n",
      "\n",
      "All open models are immature and their degree of m...\n",
      "> Querying with idx: c72fcc46-0a54-4e7b-9064-960b40a60531: Importance of open models\n",
      "\n",
      "All open models are immature and their degree of m...\n",
      "> Querying with idx: c72fcc46-0a54-4e7b-9064-960b40a60531: Importance of open models\n",
      "\n",
      "All open models are immature and their degree of m...\n",
      "> Querying with idx: c72fcc46-0a54-4e7b-9064-960b40a60531: Importance of open models\n",
      "\n",
      "All open models are immature and their degree of m...\n",
      "> Querying with idx: c72fcc46-0a54-4e7b-9064-960b40a60531: Importance of open models\n",
      "\n",
      "All open models are immature and their degree of m...\n",
      "INFO:llama_index.core.indices.knowledge_graph.retrievers:> Querying with idx: dfcaca66-9644-4675-bdcb-de7ab6cb9ae9: The future\n",
      "\n",
      "No one reading this will see the full potential that open models ...\n",
      "> Querying with idx: dfcaca66-9644-4675-bdcb-de7ab6cb9ae9: The future\n",
      "\n",
      "No one reading this will see the full potential that open models ...\n",
      "> Querying with idx: dfcaca66-9644-4675-bdcb-de7ab6cb9ae9: The future\n",
      "\n",
      "No one reading this will see the full potential that open models ...\n",
      "> Querying with idx: dfcaca66-9644-4675-bdcb-de7ab6cb9ae9: The future\n",
      "\n",
      "No one reading this will see the full potential that open models ...\n",
      "> Querying with idx: dfcaca66-9644-4675-bdcb-de7ab6cb9ae9: The future\n",
      "\n",
      "No one reading this will see the full potential that open models ...\n",
      "> Querying with idx: dfcaca66-9644-4675-bdcb-de7ab6cb9ae9: The future\n",
      "\n",
      "No one reading this will see the full potential that open models ...\n",
      "INFO:llama_index.core.indices.knowledge_graph.retrievers:> Querying with idx: ce489f6b-0597-4bbc-8078-137f8d572fbd: ---\n",
      "parent: \"[[Open Models]]\"\n",
      "---\n",
      "> Querying with idx: ce489f6b-0597-4bbc-8078-137f8d572fbd: ---\n",
      "parent: \"[[Open Models]]\"\n",
      "---\n",
      "> Querying with idx: ce489f6b-0597-4bbc-8078-137f8d572fbd: ---\n",
      "parent: \"[[Open Models]]\"\n",
      "---\n",
      "> Querying with idx: ce489f6b-0597-4bbc-8078-137f8d572fbd: ---\n",
      "parent: \"[[Open Models]]\"\n",
      "---\n",
      "> Querying with idx: ce489f6b-0597-4bbc-8078-137f8d572fbd: ---\n",
      "parent: \"[[Open Models]]\"\n",
      "---\n",
      "> Querying with idx: ce489f6b-0597-4bbc-8078-137f8d572fbd: ---\n",
      "parent: \"[[Open Models]]\"\n",
      "---\n",
      "INFO:llama_index.core.indices.knowledge_graph.retrievers:> Querying with idx: 73c34626-33b7-4393-a853-e590af934735: ---\n",
      "parent: \"[[Open Models]]\"\n",
      "---\n",
      "> Querying with idx: 73c34626-33b7-4393-a853-e590af934735: ---\n",
      "parent: \"[[Open Models]]\"\n",
      "---\n",
      "> Querying with idx: 73c34626-33b7-4393-a853-e590af934735: ---\n",
      "parent: \"[[Open Models]]\"\n",
      "---\n",
      "> Querying with idx: 73c34626-33b7-4393-a853-e590af934735: ---\n",
      "parent: \"[[Open Models]]\"\n",
      "---\n",
      "> Querying with idx: 73c34626-33b7-4393-a853-e590af934735: ---\n",
      "parent: \"[[Open Models]]\"\n",
      "---\n",
      "> Querying with idx: 73c34626-33b7-4393-a853-e590af934735: ---\n",
      "parent: \"[[Open Models]]\"\n",
      "---\n",
      "INFO:llama_index.core.indices.knowledge_graph.retrievers:> Querying with idx: f08077e9-166e-43a7-a91d-e7f4a09b00f4: ---\n",
      "parent: \"[[Open Models]]\"\n",
      "---\n",
      "\n",
      "Open Artificial Intelligence.\n",
      "> Querying with idx: f08077e9-166e-43a7-a91d-e7f4a09b00f4: ---\n",
      "parent: \"[[Open Models]]\"\n",
      "---\n",
      "\n",
      "Open Artificial Intelligence.\n",
      "> Querying with idx: f08077e9-166e-43a7-a91d-e7f4a09b00f4: ---\n",
      "parent: \"[[Open Models]]\"\n",
      "---\n",
      "\n",
      "Open Artificial Intelligence.\n",
      "> Querying with idx: f08077e9-166e-43a7-a91d-e7f4a09b00f4: ---\n",
      "parent: \"[[Open Models]]\"\n",
      "---\n",
      "\n",
      "Open Artificial Intelligence.\n",
      "> Querying with idx: f08077e9-166e-43a7-a91d-e7f4a09b00f4: ---\n",
      "parent: \"[[Open Models]]\"\n",
      "---\n",
      "\n",
      "Open Artificial Intelligence.\n",
      "> Querying with idx: f08077e9-166e-43a7-a91d-e7f4a09b00f4: ---\n",
      "parent: \"[[Open Models]]\"\n",
      "---\n",
      "\n",
      "Open Artificial Intelligence.\n"
     ]
    }
   ],
   "source": [
    "response_stream = graph_chat_engine.stream_chat(\"\"\"Based on your knowledge and your vision of the world, create a description of Open Banking. It needs 5 parts : a definition, a presentation, a usage description, a landscape and history. Imitate the writing style of : {section_modele}\"\"\")"
   ]
  },
  {
   "cell_type": "code",
   "execution_count": 222,
   "id": "0184336c",
   "metadata": {},
   "outputs": [
    {
     "name": "stdout",
     "output_type": "stream",
     "text": [
      "INFO:httpx:HTTP Request: POST https://api.openai.com/v1/chat/completions \"HTTP/1.1 200 OK\"\n",
      "HTTP Request: POST https://api.openai.com/v1/chat/completions \"HTTP/1.1 200 OK\"\n",
      "HTTP Request: POST https://api.openai.com/v1/chat/completions \"HTTP/1.1 200 OK\"\n",
      "HTTP Request: POST https://api.openai.com/v1/chat/completions \"HTTP/1.1 200 OK\"\n",
      "HTTP Request: POST https://api.openai.com/v1/chat/completions \"HTTP/1.1 200 OK\"\n",
      "HTTP Request: POST https://api.openai.com/v1/chat/completions \"HTTP/1.1 200 OK\"\n",
      "### Definition\n",
      "Open Banking is a financial services model that allows third-party developers to access consumer banking, transaction, and other financial data through the use of application programming interfaces (APIs). This model aims to foster greater transparency, competition, and innovation in the financial sector by enabling new products and services that can enhance consumer choice and control over their financial information.\n",
      "\n",
      "### Presentation\n",
      "Open Banking represents a significant shift from traditional banking practices, where financial institutions closely guarded customer data. By mandating or encouraging banks to share data with authorized third parties, Open Banking seeks to create a more dynamic and competitive financial ecosystem. This openness facilitates the development of innovative financial products and services, such as personalized financial advice, budgeting tools, and streamlined payment solutions, ultimately benefiting consumers and businesses alike.\n",
      "\n",
      "### Usage Description\n",
      "Open Banking is utilized by a variety of stakeholders, including fintech companies, traditional banks, and consumers. Fintech firms leverage Open Banking APIs to create innovative applications that offer enhanced financial services, such as real-time account aggregation, personalized financial management, and seamless payment experiences. Traditional banks can use Open Banking to collaborate with fintechs, improve customer engagement, and expand their service offerings. Consumers benefit from increased transparency, better financial products, and greater control over their financial data, enabling them to make more informed financial decisions.\n",
      "\n",
      "### Landscape\n",
      "The Open Banking landscape is rapidly evolving, driven by regulatory initiatives, technological advancements, and changing consumer expectations. In regions like the European Union and the United Kingdom, regulatory frameworks such as the Revised Payment Services Directive (PSD2) and the UK Open Banking initiative have been instrumental in promoting Open Banking practices. Other countries are following suit, developing their own regulations and standards to facilitate data sharing and innovation in the financial sector. The landscape is characterized by a growing number of fintech startups, established financial institutions, and technology providers collaborating to deliver new and improved financial services.\n",
      "\n",
      "### History\n",
      "The concept of Open Banking emerged in the early 21st century as part of a broader movement towards greater transparency and consumer empowerment in financial services. The introduction of PSD2 in the European Union in 2015 marked a significant milestone, as it required banks to open their data to third-party providers, paving the way for Open Banking. The UK followed with its own Open Banking initiative in 2018, setting a precedent for other countries to explore similar frameworks. Over the years, Open Banking has gained momentum globally, driven by the demand for more personalized and efficient financial services, as well as the need for increased competition and innovation in the banking sector."
     ]
    }
   ],
   "source": [
    "generate = response_stream.print_response_stream()\n"
   ]
  },
  {
   "cell_type": "code",
   "execution_count": 223,
   "id": "94929c52",
   "metadata": {},
   "outputs": [
    {
     "name": "stdout",
     "output_type": "stream",
     "text": [
      "INFO:httpx:HTTP Request: POST https://api.openai.com/v1/chat/completions \"HTTP/1.1 200 OK\"\n",
      "HTTP Request: POST https://api.openai.com/v1/chat/completions \"HTTP/1.1 200 OK\"\n",
      "HTTP Request: POST https://api.openai.com/v1/chat/completions \"HTTP/1.1 200 OK\"\n",
      "HTTP Request: POST https://api.openai.com/v1/chat/completions \"HTTP/1.1 200 OK\"\n",
      "HTTP Request: POST https://api.openai.com/v1/chat/completions \"HTTP/1.1 200 OK\"\n",
      "HTTP Request: POST https://api.openai.com/v1/chat/completions \"HTTP/1.1 200 OK\"\n",
      "INFO:llama_index.core.chat_engine.condense_plus_context:Condensed question: Based on your knowledge and your vision of the world, can you create a description of Open Design that includes five parts: a definition, a presentation, a usage description, a landscape, and a history? Please imitate the writing style of the previous sections provided.\n",
      "Condensed question: Based on your knowledge and your vision of the world, can you create a description of Open Design that includes five parts: a definition, a presentation, a usage description, a landscape, and a history? Please imitate the writing style of the previous sections provided.\n",
      "Condensed question: Based on your knowledge and your vision of the world, can you create a description of Open Design that includes five parts: a definition, a presentation, a usage description, a landscape, and a history? Please imitate the writing style of the previous sections provided.\n",
      "Condensed question: Based on your knowledge and your vision of the world, can you create a description of Open Design that includes five parts: a definition, a presentation, a usage description, a landscape, and a history? Please imitate the writing style of the previous sections provided.\n",
      "Condensed question: Based on your knowledge and your vision of the world, can you create a description of Open Design that includes five parts: a definition, a presentation, a usage description, a landscape, and a history? Please imitate the writing style of the previous sections provided.\n",
      "Condensed question: Based on your knowledge and your vision of the world, can you create a description of Open Design that includes five parts: a definition, a presentation, a usage description, a landscape, and a history? Please imitate the writing style of the previous sections provided.\n",
      "INFO:httpx:HTTP Request: POST https://api.openai.com/v1/chat/completions \"HTTP/1.1 200 OK\"\n",
      "HTTP Request: POST https://api.openai.com/v1/chat/completions \"HTTP/1.1 200 OK\"\n",
      "HTTP Request: POST https://api.openai.com/v1/chat/completions \"HTTP/1.1 200 OK\"\n",
      "HTTP Request: POST https://api.openai.com/v1/chat/completions \"HTTP/1.1 200 OK\"\n",
      "HTTP Request: POST https://api.openai.com/v1/chat/completions \"HTTP/1.1 200 OK\"\n",
      "HTTP Request: POST https://api.openai.com/v1/chat/completions \"HTTP/1.1 200 OK\"\n"
     ]
    },
    {
     "data": {
      "application/vnd.jupyter.widget-view+json": {
       "model_id": "74beb99f8be64e85a85c09659d440e01",
       "version_major": 2,
       "version_minor": 0
      },
      "text/plain": [
       "Batches:   0%|          | 0/1 [00:00<?, ?it/s]"
      ]
     },
     "metadata": {},
     "output_type": "display_data"
    },
    {
     "name": "stdout",
     "output_type": "stream",
     "text": [
      "INFO:llama_index.core.indices.knowledge_graph.retrievers:> Querying with idx: 5276c780-50eb-49c6-92c1-e79022abed9e: ---\n",
      "url: https://github.com/OpenDesign-WorkingGroup/Open-Design-Definition/bl...\n",
      "> Querying with idx: 5276c780-50eb-49c6-92c1-e79022abed9e: ---\n",
      "url: https://github.com/OpenDesign-WorkingGroup/Open-Design-Definition/bl...\n",
      "> Querying with idx: 5276c780-50eb-49c6-92c1-e79022abed9e: ---\n",
      "url: https://github.com/OpenDesign-WorkingGroup/Open-Design-Definition/bl...\n",
      "> Querying with idx: 5276c780-50eb-49c6-92c1-e79022abed9e: ---\n",
      "url: https://github.com/OpenDesign-WorkingGroup/Open-Design-Definition/bl...\n",
      "> Querying with idx: 5276c780-50eb-49c6-92c1-e79022abed9e: ---\n",
      "url: https://github.com/OpenDesign-WorkingGroup/Open-Design-Definition/bl...\n",
      "> Querying with idx: 5276c780-50eb-49c6-92c1-e79022abed9e: ---\n",
      "url: https://github.com/OpenDesign-WorkingGroup/Open-Design-Definition/bl...\n"
     ]
    }
   ],
   "source": [
    "response_stream = graph_chat_engine.stream_chat(\"\"\"Based on your knowledge and your vision of the world, create a description of Open Design. It needs 5 parts : a definition, a presentation, a usage description, a landscape and history. Imitate the writing style of : {section_modele}\"\"\")"
   ]
  },
  {
   "cell_type": "code",
   "execution_count": 224,
   "id": "c8d5eab1",
   "metadata": {},
   "outputs": [
    {
     "name": "stdout",
     "output_type": "stream",
     "text": [
      "INFO:httpx:HTTP Request: POST https://api.openai.com/v1/chat/completions \"HTTP/1.1 200 OK\"\n",
      "HTTP Request: POST https://api.openai.com/v1/chat/completions \"HTTP/1.1 200 OK\"\n",
      "HTTP Request: POST https://api.openai.com/v1/chat/completions \"HTTP/1.1 200 OK\"\n",
      "HTTP Request: POST https://api.openai.com/v1/chat/completions \"HTTP/1.1 200 OK\"\n",
      "HTTP Request: POST https://api.openai.com/v1/chat/completions \"HTTP/1.1 200 OK\"\n",
      "HTTP Request: POST https://api.openai.com/v1/chat/completions \"HTTP/1.1 200 OK\"\n",
      "### Definition\n",
      "Open Design is a collaborative approach to design that emphasizes transparency, accessibility, and shared creativity. It involves the open sharing of design processes, tools, and outcomes, allowing anyone to contribute, modify, and use design projects. Open Design aims to democratize the design process, fostering innovation and inclusivity by leveraging the collective expertise and creativity of a global community.\n",
      "\n",
      "### Presentation\n",
      "Open Design challenges traditional design paradigms by removing barriers to participation and encouraging a culture of openness and collaboration. It encompasses a wide range of disciplines, including product design, architecture, fashion, and digital media. By making design resources freely available, Open Design empowers individuals and communities to co-create solutions that address local and global challenges. This approach not only enhances creativity but also promotes sustainability by encouraging the reuse and adaptation of existing designs.\n",
      "\n",
      "### Usage Description\n",
      "Open Design is utilized by designers, educators, entrepreneurs, and communities seeking to harness collective creativity and knowledge. Designers can collaborate with peers worldwide, gaining diverse perspectives and insights that enrich their work. Educators use Open Design principles to teach design thinking and problem-solving skills, providing students with hands-on experience in collaborative projects. Entrepreneurs leverage open design resources to develop innovative products and services, reducing time-to-market and development costs. Communities can engage in participatory design processes, co-creating solutions that meet their specific needs and aspirations.\n",
      "\n",
      "### Landscape\n",
      "The Open Design landscape is characterized by a diverse array of platforms, tools, and communities that facilitate collaboration and knowledge sharing. Online repositories and platforms, such as Thingiverse and OpenDesk, provide access to a wealth of open-source design files and resources. Collaborative design tools and software enable real-time co-creation and iteration. The landscape is also shaped by a growing number of design collectives, hackathons, and maker spaces that promote open design practices and foster a culture of innovation and inclusivity.\n",
      "\n",
      "### History\n",
      "The roots of Open Design can be traced back to the open-source software movement, which demonstrated the power of collaborative development and shared knowledge. The concept gained traction in the early 21st century as digital technologies and the internet made it easier to share and collaborate on design projects. The rise of 3D printing and digital fabrication technologies further accelerated the adoption of Open Design, enabling individuals and communities to create and customize physical products. Over the years, Open Design has evolved into a global movement, driven by the desire for more inclusive, sustainable, and innovative design practices that empower individuals and communities to shape their own futures."
     ]
    }
   ],
   "source": [
    "generate = response_stream.print_response_stream()\n"
   ]
  },
  {
   "cell_type": "code",
   "execution_count": 225,
   "id": "ffb78d97",
   "metadata": {},
   "outputs": [
    {
     "data": {
      "text/markdown": [
       "<b>None</b>"
      ],
      "text/plain": [
       "<IPython.core.display.Markdown object>"
      ]
     },
     "metadata": {},
     "output_type": "display_data"
    }
   ],
   "source": [
    "display(Markdown(f\"<b>{generate}</b>\"))"
   ]
  },
  {
   "cell_type": "markdown",
   "id": "7f74a302-bb28-4bf8-9103-1f62750a5fc0",
   "metadata": {},
   "source": [
    "## Sum-up"
   ]
  },
  {
   "cell_type": "code",
   "execution_count": 226,
   "id": "d81f7480-9d62-4952-948e-19e089d9da9a",
   "metadata": {},
   "outputs": [],
   "source": [
    "chat_history = memory.get_all()\n",
    "\n",
    "# Assuming chat_history is available and contains your messages\n",
    "assistant_messages = [\n",
    "    message.content \n",
    "    for message in chat_history \n",
    "    if message.role == MessageRole.ASSISTANT  # Compare with the enum directly\n",
    "]\n",
    "\n",
    "\n",
    "output_filename = r\"/Users/arthursarazin/Documents/coreandgraphs/graphandopenmodels/output.md\"\n",
    "# Write to a Markdown file\n",
    "with open(output_filename, \"w\", encoding=\"utf-8\") as f:\n",
    "    for msg in assistant_messages:\n",
    "        f.write(msg + \"\\n\\n\") "
   ]
  }
 ],
 "metadata": {
  "kernelspec": {
   "display_name": "base",
   "language": "python",
   "name": "python3"
  },
  "language_info": {
   "codemirror_mode": {
    "name": "ipython",
    "version": 3
   },
   "file_extension": ".py",
   "mimetype": "text/x-python",
   "name": "python",
   "nbconvert_exporter": "python",
   "pygments_lexer": "ipython3",
   "version": "3.12.4"
  }
 },
 "nbformat": 4,
 "nbformat_minor": 5
}
